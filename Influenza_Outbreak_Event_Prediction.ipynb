{
  "cells": [
    {
      "cell_type": "markdown",
      "metadata": {
        "id": "view-in-github",
        "colab_type": "text"
      },
      "source": [
        "<a href=\"https://colab.research.google.com/github/ronak7613/influenza_outbreak_prediction_via_twitter_data/blob/main/Influenza_Outbreak_Event_Prediction.ipynb\" target=\"_parent\"><img src=\"https://colab.research.google.com/assets/colab-badge.svg\" alt=\"Open In Colab\"/></a>"
      ]
    },
    {
      "cell_type": "code",
      "execution_count": null,
      "metadata": {
        "colab": {
          "base_uri": "https://localhost:8080/"
        },
        "id": "3qn9bE4wI-Wz",
        "outputId": "ad756159-eafe-467a-df51-23892cf820f5"
      },
      "outputs": [
        {
          "output_type": "stream",
          "name": "stdout",
          "text": [
            "Drive already mounted at /content/drive; to attempt to forcibly remount, call drive.mount(\"/content/drive\", force_remount=True).\n"
          ]
        }
      ],
      "source": [
        "from google.colab import drive\n",
        "drive.mount('/content/drive')"
      ]
    },
    {
      "cell_type": "markdown",
      "metadata": {
        "id": "uDdkO6wXs38n"
      },
      "source": [
        "#project decription\n",
        "---\n",
        "Data Set Information:\n",
        "\n",
        "The data is from the United States. The data comes from different states under different weeks. For each week, the task is to predict whether or not there is an influenza outbreak on the next date. More specifically, for influenza activity, there are four levels of flu activities from minimal to high according to CDC Flu Activity Map. An influenza outbreak occurrence is indicated if the activity level is high.\n",
        "\n",
        "The input of the prediction task is the set of the keyword counts for all the tweets in a state in a week. The output is the occurrence of influenza outbreak for the specific state in the next week, which is zero if no event in the next week; or one, otherwise. Here are the briefs of all the variables:\n",
        "\n",
        "'flu_locations': a list of states.\n",
        "'flu_keywords': keyword list.\n",
        "'flu_X_*': input data for all the locations and all the weeks.\n",
        "'flu_Y_*': output data for all the locations and all the weeks."
      ]
    },
    {
      "cell_type": "markdown",
      "metadata": {
        "id": "yH2rvliHK1n7"
      },
      "source": [
        "#import libraries"
      ]
    },
    {
      "cell_type": "code",
      "execution_count": null,
      "metadata": {
        "id": "3qhGN7Q4KpMo"
      },
      "outputs": [],
      "source": [
        "from scipy.io import loadmat\n",
        "import scipy.sparse\n",
        "import numpy as np\n",
        "import pandas as pd\n",
        "from pandas import DataFrame\n",
        "import seaborn as sns\n",
        "import matplotlib.pyplot as plt"
      ]
    },
    {
      "cell_type": "markdown",
      "metadata": {
        "id": "bXJK-hLpyj0C"
      },
      "source": [
        "#functions"
      ]
    },
    {
      "cell_type": "code",
      "execution_count": null,
      "metadata": {
        "id": "fBHtCDKoUGUH"
      },
      "outputs": [],
      "source": [
        "data = loadmat('/content/drive/MyDrive/ml ronak/ml project/influenza_outbreak_dataset.mat')\n",
        "def conver(attribute):\n",
        "  b=[]\n",
        "  for i in data[attribute]:\n",
        "    for j in range(len(i)):\n",
        "      b.append(i[j][0])\n",
        "\n",
        "  return b"
      ]
    },
    {
      "cell_type": "code",
      "execution_count": null,
      "metadata": {
        "id": "4Ao4fezkKxwC"
      },
      "outputs": [],
      "source": [
        "keywords=conver('flu_keywords')\n",
        "states=conver('flu_locs')"
      ]
    },
    {
      "cell_type": "code",
      "execution_count": null,
      "metadata": {
        "colab": {
          "base_uri": "https://localhost:8080/"
        },
        "id": "B5vuF2S4GTMN",
        "outputId": "a415fe63-fd84-4b7e-cc77-bc0ce05247b6"
      },
      "outputs": [
        {
          "output_type": "execute_result",
          "data": {
            "text/plain": [
              "['flu',\n",
              " 'swine',\n",
              " 'stomach',\n",
              " 'symptoms',\n",
              " 'virus',\n",
              " 'bug',\n",
              " 'strep',\n",
              " 'season',\n",
              " 'influenza',\n",
              " 'fever',\n",
              " 'thera',\n",
              " 'poisoning',\n",
              " 'pneumonia',\n",
              " 'bird',\n",
              " 'infection',\n",
              " 'epidemic',\n",
              " 'week',\n",
              " 'bronchitis',\n",
              " 'sucks',\n",
              " 'immune',\n",
              " 'soon',\n",
              " 'colds',\n",
              " 'caught',\n",
              " 'medicine',\n",
              " 'soup',\n",
              " 'weekend',\n",
              " 'dying',\n",
              " 'recovering',\n",
              " 'weeks',\n",
              " 'meds',\n",
              " 'sick',\n",
              " 'outbreak',\n",
              " 'cough',\n",
              " 'sickness',\n",
              " 'strain',\n",
              " 'jab',\n",
              " 'kicking',\n",
              " 'catch',\n",
              " 'catching',\n",
              " 'bed',\n",
              " 'contagious',\n",
              " 'days',\n",
              " 'aches',\n",
              " 'yesterday',\n",
              " 'battling',\n",
              " 'cure',\n",
              " 'coming',\n",
              " 'doctor',\n",
              " 'rest',\n",
              " 'worst',\n",
              " 'tomorrow',\n",
              " 'case',\n",
              " 'illness',\n",
              " 'hours',\n",
              " 'due',\n",
              " 'worse',\n",
              " 'system',\n",
              " 'ini',\n",
              " 'weight',\n",
              " 'sinus',\n",
              " 'body',\n",
              " 'germs',\n",
              " 'morning',\n",
              " 'hangover',\n",
              " 'death',\n",
              " 'awful',\n",
              " 'hospital',\n",
              " 'fighting',\n",
              " '12s',\n",
              " 'away',\n",
              " 'feeling',\n",
              " 'sakit',\n",
              " 'horrible',\n",
              " 'miserable',\n",
              " 'since',\n",
              " 'ebola',\n",
              " 'lagi',\n",
              " 'die',\n",
              " 'chills',\n",
              " 'finals',\n",
              " 'vaccination',\n",
              " 'pounds',\n",
              " 'weather',\n",
              " 'nasty',\n",
              " 'played',\n",
              " 'hour',\n",
              " 'healthy',\n",
              " 'sicker',\n",
              " 'winter',\n",
              " 'finally',\n",
              " 'plague',\n",
              " 'spreading',\n",
              " 'food',\n",
              " 'avian',\n",
              " 'tablets',\n",
              " 'joke',\n",
              " 'pigs',\n",
              " 'severe',\n",
              " 'ridden',\n",
              " 'missed',\n",
              " 'terrible',\n",
              " 'puking',\n",
              " 'disease',\n",
              " 'ago',\n",
              " 'mono',\n",
              " 'coughing',\n",
              " 'tea',\n",
              " 'vaccine',\n",
              " 'office',\n",
              " 'ill',\n",
              " 'deaths',\n",
              " 'school',\n",
              " 'died',\n",
              " 'viruses',\n",
              " 'hoping',\n",
              " 'cold',\n",
              " 'home',\n",
              " 'fluids',\n",
              " 'throwing',\n",
              " 'spread',\n",
              " 'recover',\n",
              " 'cramps',\n",
              " 'games',\n",
              " 'rid',\n",
              " 'tested',\n",
              " 'summer',\n",
              " 'shot',\n",
              " 'house',\n",
              " 'mask',\n",
              " 'early',\n",
              " 'month',\n",
              " 'gave',\n",
              " 'vaccinated',\n",
              " 'gotten',\n",
              " 'slime',\n",
              " 'fun',\n",
              " 'felt',\n",
              " 'crap',\n",
              " 'suffering',\n",
              " 'boost',\n",
              " 'vitamin',\n",
              " 'haven',\n",
              " 'couple',\n",
              " 'starting',\n",
              " 'chicken',\n",
              " 'antibiotics',\n",
              " 'least',\n",
              " 'gym',\n",
              " 'killing',\n",
              " 'full',\n",
              " 'pandemic',\n",
              " 'test',\n",
              " 'doc',\n",
              " 'respiratory',\n",
              " 'sleep',\n",
              " 'pray',\n",
              " 'kill',\n",
              " 'mild',\n",
              " 'lots',\n",
              " 'hungover',\n",
              " 'whatever',\n",
              " 'missing',\n",
              " '102',\n",
              " 'kick',\n",
              " 'temp',\n",
              " 'hopefully',\n",
              " 'luck',\n",
              " 'couch',\n",
              " 'taking',\n",
              " 'glad',\n",
              " 'achy',\n",
              " 'diagnosed',\n",
              " 'recovery',\n",
              " 'working',\n",
              " 'poor',\n",
              " 'family',\n",
              " 'recovered',\n",
              " 'ache',\n",
              " 'health',\n",
              " 'mau',\n",
              " 'year',\n",
              " 'diet',\n",
              " 'sore',\n",
              " 'remedy',\n",
              " 'viral',\n",
              " 'drink',\n",
              " 'doctors',\n",
              " 'nurse',\n",
              " 'positive',\n",
              " 'tummy',\n",
              " 'kicked',\n",
              " 'officially',\n",
              " 'ready',\n",
              " 'weak',\n",
              " 'birthday',\n",
              " 'vomiting',\n",
              " 'nausea',\n",
              " 'course',\n",
              " 'fight',\n",
              " 'aku',\n",
              " 'helps',\n",
              " 'avoid',\n",
              " 'kena',\n",
              " 'serious',\n",
              " 'years',\n",
              " 'quarantine',\n",
              " 'three',\n",
              " 'masks',\n",
              " 'clinic',\n",
              " 'months',\n",
              " 'cancelled',\n",
              " 'woke',\n",
              " 'cases',\n",
              " 'nih',\n",
              " 'rough',\n",
              " 'stay',\n",
              " 'passed',\n",
              " 'vacation',\n",
              " 'remedies',\n",
              " 'rather',\n",
              " 'infected',\n",
              " 'goal',\n",
              " 'past',\n",
              " 'spring',\n",
              " 'daughter',\n",
              " 'mist',\n",
              " '103',\n",
              " 'sanitizer',\n",
              " 'contracted',\n",
              " 'bit',\n",
              " 'energy',\n",
              " 'pain',\n",
              " 'news',\n",
              " 'wants',\n",
              " 'sort',\n",
              " 'etc',\n",
              " 'noodle',\n",
              " '100',\n",
              " 'later',\n",
              " 'zombie',\n",
              " 'class',\n",
              " 'hear',\n",
              " 'trip',\n",
              " 'twice',\n",
              " '000',\n",
              " 'infections',\n",
              " 'quarantined',\n",
              " 'entire',\n",
              " 'survived',\n",
              " 'common',\n",
              " 'possible',\n",
              " 'pills',\n",
              " 'fly',\n",
              " 'itu',\n",
              " 'lbs',\n",
              " 'aching',\n",
              " 'strains',\n",
              " 'pass',\n",
              " 'swag',\n",
              " 'puke',\n",
              " 'butt',\n",
              " 'slept',\n",
              " 'hrs',\n",
              " 'workout',\n",
              " 'infect',\n",
              " 'care',\n",
              " 'normal',\n",
              " 'thank',\n",
              " 'medication',\n",
              " 'able',\n",
              " 'hands',\n",
              " 'condom',\n",
              " 'headache',\n",
              " 'bring',\n",
              " 'praying',\n",
              " 'wear',\n",
              " 'ish',\n",
              " 'staying',\n",
              " 'eat',\n",
              " 'migraine',\n",
              " 'around',\n",
              " 'symptom',\n",
              " 'plus',\n",
              " 'vitamins',\n",
              " 'kind',\n",
              " 'thanks',\n",
              " 'break',\n",
              " 'playing',\n",
              " 'swear',\n",
              " 'nauseous',\n",
              " 'warm',\n",
              " 'dreaded',\n",
              " 'kids',\n",
              " 'sleeping',\n",
              " 'marathon',\n",
              " 'prevent',\n",
              " 'feelin',\n",
              " 'allergies',\n",
              " 'hot',\n",
              " 'beat',\n",
              " 'husband',\n",
              " 'miss',\n",
              " 'gettin',\n",
              " 'aids',\n",
              " 'needs',\n",
              " 'suck',\n",
              " 'half',\n",
              " 'official',\n",
              " 'wash',\n",
              " 'likely',\n",
              " 'deadly',\n",
              " 'bottle',\n",
              " 'sounds',\n",
              " 'infectious',\n",
              " 'nya',\n",
              " 'vai',\n",
              " 'far',\n",
              " 'visit',\n",
              " 'probably',\n",
              " 'wife',\n",
              " 'play',\n",
              " 'hubby',\n",
              " 'pig',\n",
              " 'juice',\n",
              " 'sister',\n",
              " 'shots',\n",
              " 'taken',\n",
              " 'plans',\n",
              " 'tired',\n",
              " 'already',\n",
              " 'lucky',\n",
              " 'jadi',\n",
              " 'prayers',\n",
              " 'couldn',\n",
              " 'lost',\n",
              " 'knocked',\n",
              " 'vaccines',\n",
              " 'brought',\n",
              " 'brother',\n",
              " 'next',\n",
              " 'survive',\n",
              " 'risk',\n",
              " 'household',\n",
              " 'threw',\n",
              " 'gak',\n",
              " 'awesome',\n",
              " 'stomache',\n",
              " 'literally',\n",
              " '1st',\n",
              " 'wake',\n",
              " 'ate',\n",
              " 'definitely',\n",
              " 'started',\n",
              " 'udah',\n",
              " 'almost',\n",
              " 'supposed',\n",
              " 'holiday',\n",
              " 'dehydrated',\n",
              " 'cramp',\n",
              " 'related',\n",
              " 'sama',\n",
              " 'super',\n",
              " 'appetite',\n",
              " 'jordan',\n",
              " 'heard',\n",
              " 'wish',\n",
              " 'lose',\n",
              " 'mend',\n",
              " 'snow',\n",
              " 'practice',\n",
              " 'afternoon',\n",
              " 'round',\n",
              " 'leave',\n",
              " 'slowly',\n",
              " 'outside',\n",
              " 'works',\n",
              " 'kills',\n",
              " 'wanted',\n",
              " 'spent',\n",
              " 'late',\n",
              " 'wasn',\n",
              " 'commercial',\n",
              " 'dose',\n",
              " '104',\n",
              " 'shitty',\n",
              " 'panas',\n",
              " 'killed',\n",
              " 'shift',\n",
              " 'cancer',\n",
              " 'yet',\n",
              " 'dealing',\n",
              " 'needed',\n",
              " 'throw',\n",
              " 'whole',\n",
              " 'pissed',\n",
              " 'awake',\n",
              " 'room',\n",
              " 'syrup',\n",
              " 'till',\n",
              " 'busy',\n",
              " 'struck',\n",
              " 'quickly',\n",
              " 'freaking',\n",
              " 'drinking',\n",
              " 'million',\n",
              " 'nap',\n",
              " 'water',\n",
              " 'classes',\n",
              " 'safe',\n",
              " 'helping',\n",
              " 'fine',\n",
              " 'pregnant',\n",
              " 'juga',\n",
              " 'pox',\n",
              " '2014',\n",
              " '2009',\n",
              " 'less',\n",
              " 'birds',\n",
              " '2013',\n",
              " 'feels',\n",
              " 'pra',\n",
              " 'worked',\n",
              " 'throat',\n",
              " 'near',\n",
              " 'two',\n",
              " 'laying',\n",
              " 'confirmed',\n",
              " 'enough',\n",
              " 'ear',\n",
              " 'cancel',\n",
              " 'bisa',\n",
              " 'gini',\n",
              " 'activity',\n",
              " 'illnesses',\n",
              " 'fast',\n",
              " 'currently',\n",
              " 'pains',\n",
              " 'episode',\n",
              " 'goin',\n",
              " 'diarrhea',\n",
              " 'loss',\n",
              " 'beginning',\n",
              " 'tonsillitis',\n",
              " 'turned',\n",
              " 'killer',\n",
              " 'barely',\n",
              " '101',\n",
              " 'wine',\n",
              " 'lemon',\n",
              " 'pretty',\n",
              " 'type',\n",
              " 'sweating',\n",
              " 'welcome',\n",
              " 'either',\n",
              " 'came',\n",
              " 'dan',\n",
              " 'banget',\n",
              " 'cures',\n",
              " 'ginger',\n",
              " 'eaten',\n",
              " 'cup',\n",
              " 'onset',\n",
              " 'helped',\n",
              " 'effects',\n",
              " 'crappy',\n",
              " 'induced',\n",
              " 'managed',\n",
              " 'exhausted',\n",
              " 'kalo',\n",
              " 'stayed',\n",
              " 'injury',\n",
              " 'bro',\n",
              " 'holidays',\n",
              " 'immunity',\n",
              " 'dehydration',\n",
              " 'bgt',\n",
              " 'forward',\n",
              " 'stuff',\n",
              " 'dad',\n",
              " '24hr',\n",
              " 'four',\n",
              " 'hospitalized',\n",
              " 'players',\n",
              " 'giving',\n",
              " 'goodness',\n",
              " 'decided',\n",
              " 'quite',\n",
              " 'wouldn',\n",
              " 'stupid',\n",
              " 'everywhere',\n",
              " '2nd',\n",
              " 'boss',\n",
              " 'drop',\n",
              " 'waiting',\n",
              " 'healing',\n",
              " 'ive',\n",
              " 'rain',\n",
              " 'dizzy',\n",
              " 'free',\n",
              " 'yay',\n",
              " 'mate',\n",
              " 'thru',\n",
              " 'quick',\n",
              " 'emergency',\n",
              " 'apparently',\n",
              " 'excuse',\n",
              " 'tylenol',\n",
              " 'bugs',\n",
              " 'hasn',\n",
              " 'vomit',\n",
              " 'tonight',\n",
              " 'degree',\n",
              " 'careful',\n",
              " 'lovely',\n",
              " 'wonderful',\n",
              " 'combo',\n",
              " 'tests',\n",
              " 'thinks',\n",
              " 'ankle',\n",
              " 'work',\n",
              " 'hand',\n",
              " 'complications',\n",
              " 'children',\n",
              " 'start',\n",
              " 'aja']"
            ]
          },
          "metadata": {},
          "execution_count": 5
        }
      ],
      "source": [
        "keywords"
      ]
    },
    {
      "cell_type": "code",
      "execution_count": null,
      "metadata": {
        "colab": {
          "base_uri": "https://localhost:8080/"
        },
        "id": "5UIIqxgZGW-F",
        "outputId": "b3aca251-00b4-4401-a12d-61e34f4439b2"
      },
      "outputs": [
        {
          "output_type": "execute_result",
          "data": {
            "text/plain": [
              "['wyoming',\n",
              " 'colorado',\n",
              " 'nebraska',\n",
              " 'washington',\n",
              " 'rhode island',\n",
              " 'tennessee',\n",
              " 'wisconsin',\n",
              " 'nevada',\n",
              " 'maine',\n",
              " 'north dakota',\n",
              " 'mississippi',\n",
              " 'new jersey',\n",
              " 'oklahoma',\n",
              " 'delaware',\n",
              " 'minnesota',\n",
              " 'north carolina',\n",
              " 'illinois',\n",
              " 'new york',\n",
              " 'arkansas',\n",
              " 'indiana',\n",
              " 'maryland',\n",
              " 'louisiana',\n",
              " 'idaho',\n",
              " 'arizona',\n",
              " 'iowa',\n",
              " 'west virginia',\n",
              " 'michigan',\n",
              " 'kansas',\n",
              " 'utah',\n",
              " 'virginia',\n",
              " 'oregon',\n",
              " 'connecticut',\n",
              " 'california',\n",
              " 'massachusetts',\n",
              " 'alaska',\n",
              " 'vermont',\n",
              " 'georgia',\n",
              " 'pennsylvania',\n",
              " 'florida',\n",
              " 'hawaii',\n",
              " 'district of columbia',\n",
              " 'new hampshire',\n",
              " 'texas',\n",
              " 'missouri',\n",
              " 'south carolina',\n",
              " 'ohio',\n",
              " 'alabama',\n",
              " 'new mexico']"
            ]
          },
          "metadata": {},
          "execution_count": 6
        }
      ],
      "source": [
        "states"
      ]
    },
    {
      "cell_type": "code",
      "execution_count": null,
      "metadata": {
        "colab": {
          "base_uri": "https://localhost:8080/"
        },
        "id": "2vWgYusEWpeg",
        "outputId": "889b337c-cdc7-4ec0-a297-571eeb536c56"
      },
      "outputs": [
        {
          "output_type": "execute_result",
          "data": {
            "text/plain": [
              "dict_keys(['__header__', '__version__', '__globals__', 'flu_X_tr', 'flu_Y_tr', 'flu_X_te', 'flu_Y_te', 'flu_locs', 'flu_keywords'])"
            ]
          },
          "metadata": {},
          "execution_count": 7
        }
      ],
      "source": [
        "data.keys()"
      ]
    },
    {
      "cell_type": "markdown",
      "metadata": {
        "id": "V8bDH_3HjHtx"
      },
      "source": [
        "#skip this tab\n",
        "---\n",
        "start from training data"
      ]
    },
    {
      "cell_type": "code",
      "execution_count": null,
      "metadata": {
        "id": "wF3GBVX2UGcL"
      },
      "outputs": [],
      "source": [
        "#less accurate approach\n",
        "\n",
        "# x=data['flu_X_tr']\n",
        "# y=data['flu_Y_tr']\n",
        "\n",
        "# j=np.vstack((x, y))\n",
        "\n",
        "# j.shape\n",
        "# d=pd.DataFrame(j,columns=states)\n",
        "# d"
      ]
    },
    {
      "cell_type": "markdown",
      "metadata": {
        "id": "IJ9TUNw45WC1"
      },
      "source": [
        "#training data\n",
        "---\n",
        "x_training:rows: 1095 * 48 = 52560  \n",
        "x_training:col : 545  \n",
        "y_training:rows : 1095 * 48 =52560    \n",
        "y_training:col : 1\n"
      ]
    },
    {
      "cell_type": "code",
      "execution_count": null,
      "metadata": {
        "colab": {
          "base_uri": "https://localhost:8080/"
        },
        "id": "K9vSrlYVmjfl",
        "outputId": "1899c7c1-8c6f-4f82-f88e-8d03fbf3dc83"
      },
      "outputs": [
        {
          "output_type": "stream",
          "name": "stdout",
          "text": [
            "X_tr -(52560, 545)\n",
            "Y_tr -(52560, 1)\n"
          ]
        }
      ],
      "source": [
        "x_tr=[]\n",
        "for i in range(48):\n",
        "  x_tr.append(data['flu_X_tr'][0][i].todense())\n",
        "\n",
        "x_tr=np.array(x_tr)\n",
        "\n",
        "x_tr = x_tr.reshape(x_tr.shape[0]*x_tr.shape[1],x_tr.shape[2])\n",
        "x_tr=pd.DataFrame(x_tr)\n",
        "x_tr.shape\n",
        "\n",
        "y_tr=[]\n",
        "\n",
        "for i in range(48) :\n",
        "  #.append(data['flu_Y_tr'][0][i].todense())\n",
        "  y_tr.append(data['flu_Y_tr'][0][i])\n",
        "\n",
        "y_tr=np.array(y_tr)\n",
        "y_tr = y_tr.reshape(-1,1)\n",
        "y_tr=pd.DataFrame(y_tr)\n",
        "x_tr.shape\n",
        "\n",
        "print(\"X_tr -\"+ str(x_tr.shape))\n",
        "print(\"Y_tr -\"+ str(y_tr.shape))"
      ]
    },
    {
      "cell_type": "code",
      "source": [
        "x_tr.shape[0]\n"
      ],
      "metadata": {
        "colab": {
          "base_uri": "https://localhost:8080/"
        },
        "id": "h36n8-LqQPsa",
        "outputId": "bf4236a5-f4e1-49e5-f7b8-f0033d9c34ff"
      },
      "execution_count": null,
      "outputs": [
        {
          "output_type": "execute_result",
          "data": {
            "text/plain": [
              "52560"
            ]
          },
          "metadata": {},
          "execution_count": 10
        }
      ]
    },
    {
      "cell_type": "markdown",
      "metadata": {
        "id": "iPzdIfJq5YhL"
      },
      "source": [
        "#testing data\n",
        "---\n",
        "x_test:rows: 485 * 48 = 23280\\\n",
        "x_test:col : 545 \\\n",
        "y_test:rows : 485 * 48 =23280\\\n",
        "y_test:col : 1"
      ]
    },
    {
      "cell_type": "code",
      "execution_count": null,
      "metadata": {
        "colab": {
          "base_uri": "https://localhost:8080/"
        },
        "id": "UNsbF5NB5bV2",
        "outputId": "6d5eeea1-b0e5-49fd-b5e7-695b3c95c69f"
      },
      "outputs": [
        {
          "output_type": "stream",
          "name": "stdout",
          "text": [
            "x_te - shape: (23280, 545)\n",
            "y_te - shape: (23280, 1)\n"
          ]
        }
      ],
      "source": [
        "x_te=[]\n",
        "for i in range(len(data['flu_X_te'][0])):\n",
        "   x_te.append(data['flu_X_te'][0][i].todense())\n",
        "y_te=[]\n",
        "for i in range(len(data['flu_Y_te'][0])):\n",
        "   y_te.append(data['flu_Y_te'][0][i])\n",
        "\n",
        "x_te=np.array(x_te)\n",
        "y_te=np.array(y_te)\n",
        "\n",
        "x_te=x_te.reshape(x_te.shape[0]*x_te.shape[1],x_te.shape[2])\n",
        "y_te=y_te.reshape(y_te.shape[0]*y_te.shape[1],y_te.shape[2])\n",
        "\n",
        "x_te=pd.DataFrame(x_te)\n",
        "y_te=pd.DataFrame(y_te)\n",
        "\n",
        "print('x_te - shape:',x_te.shape)\n",
        "print('y_te - shape:',y_te.shape)\n"
      ]
    },
    {
      "cell_type": "code",
      "execution_count": null,
      "metadata": {
        "colab": {
          "base_uri": "https://localhost:8080/"
        },
        "id": "wKfwM9SxrG4c",
        "outputId": "c5023dcf-46fe-46cd-849f-0a80fa16db54"
      },
      "outputs": [
        {
          "output_type": "stream",
          "name": "stdout",
          "text": [
            "<class 'pandas.core.frame.DataFrame'>\n",
            "RangeIndex: 52560 entries, 0 to 52559\n",
            "Columns: 545 entries, 0 to 544\n",
            "dtypes: float64(545)\n",
            "memory usage: 218.5 MB\n"
          ]
        }
      ],
      "source": [
        "x_tr.info()"
      ]
    },
    {
      "cell_type": "code",
      "execution_count": null,
      "metadata": {
        "colab": {
          "base_uri": "https://localhost:8080/"
        },
        "id": "utynvWLPn1aq",
        "outputId": "1e7cfae9-9007-4af3-a1a0-bef30c05720f"
      },
      "outputs": [
        {
          "output_type": "stream",
          "name": "stdout",
          "text": [
            "<class 'pandas.core.frame.DataFrame'>\n",
            "RangeIndex: 52560 entries, 0 to 52559\n",
            "Data columns (total 1 columns):\n",
            " #   Column  Non-Null Count  Dtype\n",
            "---  ------  --------------  -----\n",
            " 0   0       52560 non-null  uint8\n",
            "dtypes: uint8(1)\n",
            "memory usage: 51.5 KB\n"
          ]
        }
      ],
      "source": [
        "y_tr.info()"
      ]
    },
    {
      "cell_type": "code",
      "execution_count": null,
      "metadata": {
        "colab": {
          "base_uri": "https://localhost:8080/"
        },
        "id": "MvL7RVnbIwWt",
        "outputId": "d4ea0b07-e9b1-4758-f45f-2671adbc88aa"
      },
      "outputs": [
        {
          "output_type": "execute_result",
          "data": {
            "text/plain": [
              "525"
            ]
          },
          "metadata": {},
          "execution_count": 14
        }
      ],
      "source": [
        "len(keywords)"
      ]
    },
    {
      "cell_type": "code",
      "execution_count": null,
      "metadata": {
        "colab": {
          "base_uri": "https://localhost:8080/",
          "height": 424
        },
        "id": "PjhYVQHAJXuE",
        "outputId": "802fd1ae-98a2-48bd-fc9c-d52b5c846963"
      },
      "outputs": [
        {
          "output_type": "execute_result",
          "data": {
            "text/plain": [
              "       0    1    2    3    4    5    6    7    8    9    ...  535  536  537  \\\n",
              "0      0.0  0.0  0.0  0.0  0.0  0.0  0.0  0.0  0.0  1.0  ...  0.0  0.0  0.0   \n",
              "1      0.0  0.0  0.0  0.0  0.0  0.0  0.0  0.0  0.0  0.0  ...  0.0  0.0  0.0   \n",
              "2      0.0  0.0  0.0  0.0  0.0  0.0  0.0  0.0  0.0  0.0  ...  0.0  0.0  0.0   \n",
              "3      0.0  0.0  0.0  0.0  0.0  0.0  0.0  0.0  0.0  0.0  ...  0.0  0.0  0.0   \n",
              "4      0.0  0.0  0.0  0.0  0.0  0.0  0.0  0.0  0.0  0.0  ...  0.0  0.0  0.0   \n",
              "...    ...  ...  ...  ...  ...  ...  ...  ...  ...  ...  ...  ...  ...  ...   \n",
              "52555  1.0  1.0  1.0  1.0  1.0  1.0  1.0  1.0  1.0  1.0  ...  0.0  0.0  0.0   \n",
              "52556  1.0  1.0  1.0  2.0  2.0  2.0  2.0  2.0  2.0  2.0  ...  0.0  0.0  0.0   \n",
              "52557  0.0  0.0  0.0  0.0  0.0  0.0  0.0  0.0  0.0  0.0  ...  0.0  0.0  0.0   \n",
              "52558  0.0  0.0  0.0  0.0  0.0  0.0  0.0  0.0  1.0  1.0  ...  0.0  0.0  0.0   \n",
              "52559  0.0  0.0  0.0  0.0  0.0  0.0  0.0  0.0  0.0  0.0  ...  0.0  0.0  0.0   \n",
              "\n",
              "       538  539  540  541  542  543  544  \n",
              "0      0.0  0.0  0.0  0.0  0.0  0.0  0.0  \n",
              "1      0.0  0.0  0.0  0.0  0.0  0.0  0.0  \n",
              "2      0.0  0.0  0.0  0.0  0.0  0.0  0.0  \n",
              "3      0.0  0.0  0.0  0.0  0.0  0.0  0.0  \n",
              "4      0.0  0.0  0.0  0.0  0.0  0.0  0.0  \n",
              "...    ...  ...  ...  ...  ...  ...  ...  \n",
              "52555  0.0  0.0  0.0  0.0  0.0  0.0  0.0  \n",
              "52556  0.0  1.0  0.0  0.0  0.0  1.0  0.0  \n",
              "52557  0.0  0.0  0.0  0.0  0.0  0.0  0.0  \n",
              "52558  0.0  0.0  0.0  0.0  0.0  0.0  0.0  \n",
              "52559  0.0  0.0  0.0  0.0  0.0  0.0  0.0  \n",
              "\n",
              "[52560 rows x 545 columns]"
            ],
            "text/html": [
              "\n",
              "  <div id=\"df-6ceadff9-f9dd-4098-9046-5a4881592538\">\n",
              "    <div class=\"colab-df-container\">\n",
              "      <div>\n",
              "<style scoped>\n",
              "    .dataframe tbody tr th:only-of-type {\n",
              "        vertical-align: middle;\n",
              "    }\n",
              "\n",
              "    .dataframe tbody tr th {\n",
              "        vertical-align: top;\n",
              "    }\n",
              "\n",
              "    .dataframe thead th {\n",
              "        text-align: right;\n",
              "    }\n",
              "</style>\n",
              "<table border=\"1\" class=\"dataframe\">\n",
              "  <thead>\n",
              "    <tr style=\"text-align: right;\">\n",
              "      <th></th>\n",
              "      <th>0</th>\n",
              "      <th>1</th>\n",
              "      <th>2</th>\n",
              "      <th>3</th>\n",
              "      <th>4</th>\n",
              "      <th>5</th>\n",
              "      <th>6</th>\n",
              "      <th>7</th>\n",
              "      <th>8</th>\n",
              "      <th>9</th>\n",
              "      <th>...</th>\n",
              "      <th>535</th>\n",
              "      <th>536</th>\n",
              "      <th>537</th>\n",
              "      <th>538</th>\n",
              "      <th>539</th>\n",
              "      <th>540</th>\n",
              "      <th>541</th>\n",
              "      <th>542</th>\n",
              "      <th>543</th>\n",
              "      <th>544</th>\n",
              "    </tr>\n",
              "  </thead>\n",
              "  <tbody>\n",
              "    <tr>\n",
              "      <th>0</th>\n",
              "      <td>0.0</td>\n",
              "      <td>0.0</td>\n",
              "      <td>0.0</td>\n",
              "      <td>0.0</td>\n",
              "      <td>0.0</td>\n",
              "      <td>0.0</td>\n",
              "      <td>0.0</td>\n",
              "      <td>0.0</td>\n",
              "      <td>0.0</td>\n",
              "      <td>1.0</td>\n",
              "      <td>...</td>\n",
              "      <td>0.0</td>\n",
              "      <td>0.0</td>\n",
              "      <td>0.0</td>\n",
              "      <td>0.0</td>\n",
              "      <td>0.0</td>\n",
              "      <td>0.0</td>\n",
              "      <td>0.0</td>\n",
              "      <td>0.0</td>\n",
              "      <td>0.0</td>\n",
              "      <td>0.0</td>\n",
              "    </tr>\n",
              "    <tr>\n",
              "      <th>1</th>\n",
              "      <td>0.0</td>\n",
              "      <td>0.0</td>\n",
              "      <td>0.0</td>\n",
              "      <td>0.0</td>\n",
              "      <td>0.0</td>\n",
              "      <td>0.0</td>\n",
              "      <td>0.0</td>\n",
              "      <td>0.0</td>\n",
              "      <td>0.0</td>\n",
              "      <td>0.0</td>\n",
              "      <td>...</td>\n",
              "      <td>0.0</td>\n",
              "      <td>0.0</td>\n",
              "      <td>0.0</td>\n",
              "      <td>0.0</td>\n",
              "      <td>0.0</td>\n",
              "      <td>0.0</td>\n",
              "      <td>0.0</td>\n",
              "      <td>0.0</td>\n",
              "      <td>0.0</td>\n",
              "      <td>0.0</td>\n",
              "    </tr>\n",
              "    <tr>\n",
              "      <th>2</th>\n",
              "      <td>0.0</td>\n",
              "      <td>0.0</td>\n",
              "      <td>0.0</td>\n",
              "      <td>0.0</td>\n",
              "      <td>0.0</td>\n",
              "      <td>0.0</td>\n",
              "      <td>0.0</td>\n",
              "      <td>0.0</td>\n",
              "      <td>0.0</td>\n",
              "      <td>0.0</td>\n",
              "      <td>...</td>\n",
              "      <td>0.0</td>\n",
              "      <td>0.0</td>\n",
              "      <td>0.0</td>\n",
              "      <td>0.0</td>\n",
              "      <td>0.0</td>\n",
              "      <td>0.0</td>\n",
              "      <td>0.0</td>\n",
              "      <td>0.0</td>\n",
              "      <td>0.0</td>\n",
              "      <td>0.0</td>\n",
              "    </tr>\n",
              "    <tr>\n",
              "      <th>3</th>\n",
              "      <td>0.0</td>\n",
              "      <td>0.0</td>\n",
              "      <td>0.0</td>\n",
              "      <td>0.0</td>\n",
              "      <td>0.0</td>\n",
              "      <td>0.0</td>\n",
              "      <td>0.0</td>\n",
              "      <td>0.0</td>\n",
              "      <td>0.0</td>\n",
              "      <td>0.0</td>\n",
              "      <td>...</td>\n",
              "      <td>0.0</td>\n",
              "      <td>0.0</td>\n",
              "      <td>0.0</td>\n",
              "      <td>0.0</td>\n",
              "      <td>0.0</td>\n",
              "      <td>0.0</td>\n",
              "      <td>0.0</td>\n",
              "      <td>0.0</td>\n",
              "      <td>0.0</td>\n",
              "      <td>0.0</td>\n",
              "    </tr>\n",
              "    <tr>\n",
              "      <th>4</th>\n",
              "      <td>0.0</td>\n",
              "      <td>0.0</td>\n",
              "      <td>0.0</td>\n",
              "      <td>0.0</td>\n",
              "      <td>0.0</td>\n",
              "      <td>0.0</td>\n",
              "      <td>0.0</td>\n",
              "      <td>0.0</td>\n",
              "      <td>0.0</td>\n",
              "      <td>0.0</td>\n",
              "      <td>...</td>\n",
              "      <td>0.0</td>\n",
              "      <td>0.0</td>\n",
              "      <td>0.0</td>\n",
              "      <td>0.0</td>\n",
              "      <td>0.0</td>\n",
              "      <td>0.0</td>\n",
              "      <td>0.0</td>\n",
              "      <td>0.0</td>\n",
              "      <td>0.0</td>\n",
              "      <td>0.0</td>\n",
              "    </tr>\n",
              "    <tr>\n",
              "      <th>...</th>\n",
              "      <td>...</td>\n",
              "      <td>...</td>\n",
              "      <td>...</td>\n",
              "      <td>...</td>\n",
              "      <td>...</td>\n",
              "      <td>...</td>\n",
              "      <td>...</td>\n",
              "      <td>...</td>\n",
              "      <td>...</td>\n",
              "      <td>...</td>\n",
              "      <td>...</td>\n",
              "      <td>...</td>\n",
              "      <td>...</td>\n",
              "      <td>...</td>\n",
              "      <td>...</td>\n",
              "      <td>...</td>\n",
              "      <td>...</td>\n",
              "      <td>...</td>\n",
              "      <td>...</td>\n",
              "      <td>...</td>\n",
              "      <td>...</td>\n",
              "    </tr>\n",
              "    <tr>\n",
              "      <th>52555</th>\n",
              "      <td>1.0</td>\n",
              "      <td>1.0</td>\n",
              "      <td>1.0</td>\n",
              "      <td>1.0</td>\n",
              "      <td>1.0</td>\n",
              "      <td>1.0</td>\n",
              "      <td>1.0</td>\n",
              "      <td>1.0</td>\n",
              "      <td>1.0</td>\n",
              "      <td>1.0</td>\n",
              "      <td>...</td>\n",
              "      <td>0.0</td>\n",
              "      <td>0.0</td>\n",
              "      <td>0.0</td>\n",
              "      <td>0.0</td>\n",
              "      <td>0.0</td>\n",
              "      <td>0.0</td>\n",
              "      <td>0.0</td>\n",
              "      <td>0.0</td>\n",
              "      <td>0.0</td>\n",
              "      <td>0.0</td>\n",
              "    </tr>\n",
              "    <tr>\n",
              "      <th>52556</th>\n",
              "      <td>1.0</td>\n",
              "      <td>1.0</td>\n",
              "      <td>1.0</td>\n",
              "      <td>2.0</td>\n",
              "      <td>2.0</td>\n",
              "      <td>2.0</td>\n",
              "      <td>2.0</td>\n",
              "      <td>2.0</td>\n",
              "      <td>2.0</td>\n",
              "      <td>2.0</td>\n",
              "      <td>...</td>\n",
              "      <td>0.0</td>\n",
              "      <td>0.0</td>\n",
              "      <td>0.0</td>\n",
              "      <td>0.0</td>\n",
              "      <td>1.0</td>\n",
              "      <td>0.0</td>\n",
              "      <td>0.0</td>\n",
              "      <td>0.0</td>\n",
              "      <td>1.0</td>\n",
              "      <td>0.0</td>\n",
              "    </tr>\n",
              "    <tr>\n",
              "      <th>52557</th>\n",
              "      <td>0.0</td>\n",
              "      <td>0.0</td>\n",
              "      <td>0.0</td>\n",
              "      <td>0.0</td>\n",
              "      <td>0.0</td>\n",
              "      <td>0.0</td>\n",
              "      <td>0.0</td>\n",
              "      <td>0.0</td>\n",
              "      <td>0.0</td>\n",
              "      <td>0.0</td>\n",
              "      <td>...</td>\n",
              "      <td>0.0</td>\n",
              "      <td>0.0</td>\n",
              "      <td>0.0</td>\n",
              "      <td>0.0</td>\n",
              "      <td>0.0</td>\n",
              "      <td>0.0</td>\n",
              "      <td>0.0</td>\n",
              "      <td>0.0</td>\n",
              "      <td>0.0</td>\n",
              "      <td>0.0</td>\n",
              "    </tr>\n",
              "    <tr>\n",
              "      <th>52558</th>\n",
              "      <td>0.0</td>\n",
              "      <td>0.0</td>\n",
              "      <td>0.0</td>\n",
              "      <td>0.0</td>\n",
              "      <td>0.0</td>\n",
              "      <td>0.0</td>\n",
              "      <td>0.0</td>\n",
              "      <td>0.0</td>\n",
              "      <td>1.0</td>\n",
              "      <td>1.0</td>\n",
              "      <td>...</td>\n",
              "      <td>0.0</td>\n",
              "      <td>0.0</td>\n",
              "      <td>0.0</td>\n",
              "      <td>0.0</td>\n",
              "      <td>0.0</td>\n",
              "      <td>0.0</td>\n",
              "      <td>0.0</td>\n",
              "      <td>0.0</td>\n",
              "      <td>0.0</td>\n",
              "      <td>0.0</td>\n",
              "    </tr>\n",
              "    <tr>\n",
              "      <th>52559</th>\n",
              "      <td>0.0</td>\n",
              "      <td>0.0</td>\n",
              "      <td>0.0</td>\n",
              "      <td>0.0</td>\n",
              "      <td>0.0</td>\n",
              "      <td>0.0</td>\n",
              "      <td>0.0</td>\n",
              "      <td>0.0</td>\n",
              "      <td>0.0</td>\n",
              "      <td>0.0</td>\n",
              "      <td>...</td>\n",
              "      <td>0.0</td>\n",
              "      <td>0.0</td>\n",
              "      <td>0.0</td>\n",
              "      <td>0.0</td>\n",
              "      <td>0.0</td>\n",
              "      <td>0.0</td>\n",
              "      <td>0.0</td>\n",
              "      <td>0.0</td>\n",
              "      <td>0.0</td>\n",
              "      <td>0.0</td>\n",
              "    </tr>\n",
              "  </tbody>\n",
              "</table>\n",
              "<p>52560 rows × 545 columns</p>\n",
              "</div>\n",
              "      <button class=\"colab-df-convert\" onclick=\"convertToInteractive('df-6ceadff9-f9dd-4098-9046-5a4881592538')\"\n",
              "              title=\"Convert this dataframe to an interactive table.\"\n",
              "              style=\"display:none;\">\n",
              "        \n",
              "  <svg xmlns=\"http://www.w3.org/2000/svg\" height=\"24px\"viewBox=\"0 0 24 24\"\n",
              "       width=\"24px\">\n",
              "    <path d=\"M0 0h24v24H0V0z\" fill=\"none\"/>\n",
              "    <path d=\"M18.56 5.44l.94 2.06.94-2.06 2.06-.94-2.06-.94-.94-2.06-.94 2.06-2.06.94zm-11 1L8.5 8.5l.94-2.06 2.06-.94-2.06-.94L8.5 2.5l-.94 2.06-2.06.94zm10 10l.94 2.06.94-2.06 2.06-.94-2.06-.94-.94-2.06-.94 2.06-2.06.94z\"/><path d=\"M17.41 7.96l-1.37-1.37c-.4-.4-.92-.59-1.43-.59-.52 0-1.04.2-1.43.59L10.3 9.45l-7.72 7.72c-.78.78-.78 2.05 0 2.83L4 21.41c.39.39.9.59 1.41.59.51 0 1.02-.2 1.41-.59l7.78-7.78 2.81-2.81c.8-.78.8-2.07 0-2.86zM5.41 20L4 18.59l7.72-7.72 1.47 1.35L5.41 20z\"/>\n",
              "  </svg>\n",
              "      </button>\n",
              "      \n",
              "  <style>\n",
              "    .colab-df-container {\n",
              "      display:flex;\n",
              "      flex-wrap:wrap;\n",
              "      gap: 12px;\n",
              "    }\n",
              "\n",
              "    .colab-df-convert {\n",
              "      background-color: #E8F0FE;\n",
              "      border: none;\n",
              "      border-radius: 50%;\n",
              "      cursor: pointer;\n",
              "      display: none;\n",
              "      fill: #1967D2;\n",
              "      height: 32px;\n",
              "      padding: 0 0 0 0;\n",
              "      width: 32px;\n",
              "    }\n",
              "\n",
              "    .colab-df-convert:hover {\n",
              "      background-color: #E2EBFA;\n",
              "      box-shadow: 0px 1px 2px rgba(60, 64, 67, 0.3), 0px 1px 3px 1px rgba(60, 64, 67, 0.15);\n",
              "      fill: #174EA6;\n",
              "    }\n",
              "\n",
              "    [theme=dark] .colab-df-convert {\n",
              "      background-color: #3B4455;\n",
              "      fill: #D2E3FC;\n",
              "    }\n",
              "\n",
              "    [theme=dark] .colab-df-convert:hover {\n",
              "      background-color: #434B5C;\n",
              "      box-shadow: 0px 1px 3px 1px rgba(0, 0, 0, 0.15);\n",
              "      filter: drop-shadow(0px 1px 2px rgba(0, 0, 0, 0.3));\n",
              "      fill: #FFFFFF;\n",
              "    }\n",
              "  </style>\n",
              "\n",
              "      <script>\n",
              "        const buttonEl =\n",
              "          document.querySelector('#df-6ceadff9-f9dd-4098-9046-5a4881592538 button.colab-df-convert');\n",
              "        buttonEl.style.display =\n",
              "          google.colab.kernel.accessAllowed ? 'block' : 'none';\n",
              "\n",
              "        async function convertToInteractive(key) {\n",
              "          const element = document.querySelector('#df-6ceadff9-f9dd-4098-9046-5a4881592538');\n",
              "          const dataTable =\n",
              "            await google.colab.kernel.invokeFunction('convertToInteractive',\n",
              "                                                     [key], {});\n",
              "          if (!dataTable) return;\n",
              "\n",
              "          const docLinkHtml = 'Like what you see? Visit the ' +\n",
              "            '<a target=\"_blank\" href=https://colab.research.google.com/notebooks/data_table.ipynb>data table notebook</a>'\n",
              "            + ' to learn more about interactive tables.';\n",
              "          element.innerHTML = '';\n",
              "          dataTable['output_type'] = 'display_data';\n",
              "          await google.colab.output.renderOutput(dataTable, element);\n",
              "          const docLink = document.createElement('div');\n",
              "          docLink.innerHTML = docLinkHtml;\n",
              "          element.appendChild(docLink);\n",
              "        }\n",
              "      </script>\n",
              "    </div>\n",
              "  </div>\n",
              "  "
            ]
          },
          "metadata": {},
          "execution_count": 15
        }
      ],
      "source": [
        "x_tr"
      ]
    },
    {
      "cell_type": "code",
      "execution_count": null,
      "metadata": {
        "colab": {
          "base_uri": "https://localhost:8080/",
          "height": 424
        },
        "id": "RFktLW9RFa_l",
        "outputId": "501593c2-0c18-4dd6-dad1-7380d5689b7a"
      },
      "outputs": [
        {
          "output_type": "execute_result",
          "data": {
            "text/plain": [
              "       0    1    2    3    4    5    6    7    8    9    ...  535  536  537  \\\n",
              "0      0.0  0.0  0.0  0.0  0.0  0.0  0.0  0.0  0.0  0.0  ...  0.0  0.0  0.0   \n",
              "1      0.0  0.0  0.0  0.0  0.0  0.0  0.0  0.0  0.0  0.0  ...  0.0  0.0  0.0   \n",
              "2      0.0  0.0  0.0  0.0  0.0  0.0  0.0  0.0  0.0  0.0  ...  0.0  0.0  0.0   \n",
              "3      0.0  0.0  0.0  0.0  0.0  0.0  0.0  0.0  0.0  0.0  ...  0.0  0.0  0.0   \n",
              "4      0.0  0.0  0.0  0.0  0.0  0.0  0.0  0.0  0.0  0.0  ...  0.0  0.0  0.0   \n",
              "...    ...  ...  ...  ...  ...  ...  ...  ...  ...  ...  ...  ...  ...  ...   \n",
              "23275  0.0  0.0  0.0  0.0  0.0  0.0  0.0  0.0  0.0  0.0  ...  0.0  0.0  0.0   \n",
              "23276  0.0  0.0  0.0  0.0  0.0  0.0  0.0  0.0  0.0  0.0  ...  0.0  0.0  0.0   \n",
              "23277  0.0  0.0  0.0  0.0  0.0  0.0  0.0  0.0  0.0  0.0  ...  0.0  0.0  0.0   \n",
              "23278  0.0  0.0  0.0  0.0  0.0  0.0  0.0  0.0  0.0  0.0  ...  0.0  0.0  0.0   \n",
              "23279  0.0  0.0  0.0  0.0  0.0  0.0  0.0  0.0  0.0  0.0  ...  0.0  0.0  0.0   \n",
              "\n",
              "       538  539  540  541  542  543  544  \n",
              "0      0.0  0.0  0.0  0.0  0.0  0.0  0.0  \n",
              "1      0.0  0.0  0.0  0.0  0.0  0.0  0.0  \n",
              "2      0.0  0.0  0.0  0.0  0.0  0.0  0.0  \n",
              "3      0.0  0.0  0.0  0.0  0.0  0.0  0.0  \n",
              "4      0.0  0.0  0.0  0.0  0.0  0.0  0.0  \n",
              "...    ...  ...  ...  ...  ...  ...  ...  \n",
              "23275  0.0  0.0  0.0  0.0  0.0  0.0  0.0  \n",
              "23276  0.0  0.0  0.0  0.0  0.0  0.0  0.0  \n",
              "23277  0.0  0.0  0.0  0.0  0.0  0.0  0.0  \n",
              "23278  0.0  0.0  0.0  0.0  0.0  0.0  0.0  \n",
              "23279  0.0  0.0  0.0  0.0  0.0  0.0  0.0  \n",
              "\n",
              "[23280 rows x 545 columns]"
            ],
            "text/html": [
              "\n",
              "  <div id=\"df-e2add310-f16f-433f-8ab8-2e4554b4c03f\">\n",
              "    <div class=\"colab-df-container\">\n",
              "      <div>\n",
              "<style scoped>\n",
              "    .dataframe tbody tr th:only-of-type {\n",
              "        vertical-align: middle;\n",
              "    }\n",
              "\n",
              "    .dataframe tbody tr th {\n",
              "        vertical-align: top;\n",
              "    }\n",
              "\n",
              "    .dataframe thead th {\n",
              "        text-align: right;\n",
              "    }\n",
              "</style>\n",
              "<table border=\"1\" class=\"dataframe\">\n",
              "  <thead>\n",
              "    <tr style=\"text-align: right;\">\n",
              "      <th></th>\n",
              "      <th>0</th>\n",
              "      <th>1</th>\n",
              "      <th>2</th>\n",
              "      <th>3</th>\n",
              "      <th>4</th>\n",
              "      <th>5</th>\n",
              "      <th>6</th>\n",
              "      <th>7</th>\n",
              "      <th>8</th>\n",
              "      <th>9</th>\n",
              "      <th>...</th>\n",
              "      <th>535</th>\n",
              "      <th>536</th>\n",
              "      <th>537</th>\n",
              "      <th>538</th>\n",
              "      <th>539</th>\n",
              "      <th>540</th>\n",
              "      <th>541</th>\n",
              "      <th>542</th>\n",
              "      <th>543</th>\n",
              "      <th>544</th>\n",
              "    </tr>\n",
              "  </thead>\n",
              "  <tbody>\n",
              "    <tr>\n",
              "      <th>0</th>\n",
              "      <td>0.0</td>\n",
              "      <td>0.0</td>\n",
              "      <td>0.0</td>\n",
              "      <td>0.0</td>\n",
              "      <td>0.0</td>\n",
              "      <td>0.0</td>\n",
              "      <td>0.0</td>\n",
              "      <td>0.0</td>\n",
              "      <td>0.0</td>\n",
              "      <td>0.0</td>\n",
              "      <td>...</td>\n",
              "      <td>0.0</td>\n",
              "      <td>0.0</td>\n",
              "      <td>0.0</td>\n",
              "      <td>0.0</td>\n",
              "      <td>0.0</td>\n",
              "      <td>0.0</td>\n",
              "      <td>0.0</td>\n",
              "      <td>0.0</td>\n",
              "      <td>0.0</td>\n",
              "      <td>0.0</td>\n",
              "    </tr>\n",
              "    <tr>\n",
              "      <th>1</th>\n",
              "      <td>0.0</td>\n",
              "      <td>0.0</td>\n",
              "      <td>0.0</td>\n",
              "      <td>0.0</td>\n",
              "      <td>0.0</td>\n",
              "      <td>0.0</td>\n",
              "      <td>0.0</td>\n",
              "      <td>0.0</td>\n",
              "      <td>0.0</td>\n",
              "      <td>0.0</td>\n",
              "      <td>...</td>\n",
              "      <td>0.0</td>\n",
              "      <td>0.0</td>\n",
              "      <td>0.0</td>\n",
              "      <td>0.0</td>\n",
              "      <td>0.0</td>\n",
              "      <td>0.0</td>\n",
              "      <td>0.0</td>\n",
              "      <td>0.0</td>\n",
              "      <td>0.0</td>\n",
              "      <td>0.0</td>\n",
              "    </tr>\n",
              "    <tr>\n",
              "      <th>2</th>\n",
              "      <td>0.0</td>\n",
              "      <td>0.0</td>\n",
              "      <td>0.0</td>\n",
              "      <td>0.0</td>\n",
              "      <td>0.0</td>\n",
              "      <td>0.0</td>\n",
              "      <td>0.0</td>\n",
              "      <td>0.0</td>\n",
              "      <td>0.0</td>\n",
              "      <td>0.0</td>\n",
              "      <td>...</td>\n",
              "      <td>0.0</td>\n",
              "      <td>0.0</td>\n",
              "      <td>0.0</td>\n",
              "      <td>0.0</td>\n",
              "      <td>0.0</td>\n",
              "      <td>0.0</td>\n",
              "      <td>0.0</td>\n",
              "      <td>0.0</td>\n",
              "      <td>0.0</td>\n",
              "      <td>0.0</td>\n",
              "    </tr>\n",
              "    <tr>\n",
              "      <th>3</th>\n",
              "      <td>0.0</td>\n",
              "      <td>0.0</td>\n",
              "      <td>0.0</td>\n",
              "      <td>0.0</td>\n",
              "      <td>0.0</td>\n",
              "      <td>0.0</td>\n",
              "      <td>0.0</td>\n",
              "      <td>0.0</td>\n",
              "      <td>0.0</td>\n",
              "      <td>0.0</td>\n",
              "      <td>...</td>\n",
              "      <td>0.0</td>\n",
              "      <td>0.0</td>\n",
              "      <td>0.0</td>\n",
              "      <td>0.0</td>\n",
              "      <td>0.0</td>\n",
              "      <td>0.0</td>\n",
              "      <td>0.0</td>\n",
              "      <td>0.0</td>\n",
              "      <td>0.0</td>\n",
              "      <td>0.0</td>\n",
              "    </tr>\n",
              "    <tr>\n",
              "      <th>4</th>\n",
              "      <td>0.0</td>\n",
              "      <td>0.0</td>\n",
              "      <td>0.0</td>\n",
              "      <td>0.0</td>\n",
              "      <td>0.0</td>\n",
              "      <td>0.0</td>\n",
              "      <td>0.0</td>\n",
              "      <td>0.0</td>\n",
              "      <td>0.0</td>\n",
              "      <td>0.0</td>\n",
              "      <td>...</td>\n",
              "      <td>0.0</td>\n",
              "      <td>0.0</td>\n",
              "      <td>0.0</td>\n",
              "      <td>0.0</td>\n",
              "      <td>0.0</td>\n",
              "      <td>0.0</td>\n",
              "      <td>0.0</td>\n",
              "      <td>0.0</td>\n",
              "      <td>0.0</td>\n",
              "      <td>0.0</td>\n",
              "    </tr>\n",
              "    <tr>\n",
              "      <th>...</th>\n",
              "      <td>...</td>\n",
              "      <td>...</td>\n",
              "      <td>...</td>\n",
              "      <td>...</td>\n",
              "      <td>...</td>\n",
              "      <td>...</td>\n",
              "      <td>...</td>\n",
              "      <td>...</td>\n",
              "      <td>...</td>\n",
              "      <td>...</td>\n",
              "      <td>...</td>\n",
              "      <td>...</td>\n",
              "      <td>...</td>\n",
              "      <td>...</td>\n",
              "      <td>...</td>\n",
              "      <td>...</td>\n",
              "      <td>...</td>\n",
              "      <td>...</td>\n",
              "      <td>...</td>\n",
              "      <td>...</td>\n",
              "      <td>...</td>\n",
              "    </tr>\n",
              "    <tr>\n",
              "      <th>23275</th>\n",
              "      <td>0.0</td>\n",
              "      <td>0.0</td>\n",
              "      <td>0.0</td>\n",
              "      <td>0.0</td>\n",
              "      <td>0.0</td>\n",
              "      <td>0.0</td>\n",
              "      <td>0.0</td>\n",
              "      <td>0.0</td>\n",
              "      <td>0.0</td>\n",
              "      <td>0.0</td>\n",
              "      <td>...</td>\n",
              "      <td>0.0</td>\n",
              "      <td>0.0</td>\n",
              "      <td>0.0</td>\n",
              "      <td>0.0</td>\n",
              "      <td>0.0</td>\n",
              "      <td>0.0</td>\n",
              "      <td>0.0</td>\n",
              "      <td>0.0</td>\n",
              "      <td>0.0</td>\n",
              "      <td>0.0</td>\n",
              "    </tr>\n",
              "    <tr>\n",
              "      <th>23276</th>\n",
              "      <td>0.0</td>\n",
              "      <td>0.0</td>\n",
              "      <td>0.0</td>\n",
              "      <td>0.0</td>\n",
              "      <td>0.0</td>\n",
              "      <td>0.0</td>\n",
              "      <td>0.0</td>\n",
              "      <td>0.0</td>\n",
              "      <td>0.0</td>\n",
              "      <td>0.0</td>\n",
              "      <td>...</td>\n",
              "      <td>0.0</td>\n",
              "      <td>0.0</td>\n",
              "      <td>0.0</td>\n",
              "      <td>0.0</td>\n",
              "      <td>0.0</td>\n",
              "      <td>0.0</td>\n",
              "      <td>0.0</td>\n",
              "      <td>0.0</td>\n",
              "      <td>0.0</td>\n",
              "      <td>0.0</td>\n",
              "    </tr>\n",
              "    <tr>\n",
              "      <th>23277</th>\n",
              "      <td>0.0</td>\n",
              "      <td>0.0</td>\n",
              "      <td>0.0</td>\n",
              "      <td>0.0</td>\n",
              "      <td>0.0</td>\n",
              "      <td>0.0</td>\n",
              "      <td>0.0</td>\n",
              "      <td>0.0</td>\n",
              "      <td>0.0</td>\n",
              "      <td>0.0</td>\n",
              "      <td>...</td>\n",
              "      <td>0.0</td>\n",
              "      <td>0.0</td>\n",
              "      <td>0.0</td>\n",
              "      <td>0.0</td>\n",
              "      <td>0.0</td>\n",
              "      <td>0.0</td>\n",
              "      <td>0.0</td>\n",
              "      <td>0.0</td>\n",
              "      <td>0.0</td>\n",
              "      <td>0.0</td>\n",
              "    </tr>\n",
              "    <tr>\n",
              "      <th>23278</th>\n",
              "      <td>0.0</td>\n",
              "      <td>0.0</td>\n",
              "      <td>0.0</td>\n",
              "      <td>0.0</td>\n",
              "      <td>0.0</td>\n",
              "      <td>0.0</td>\n",
              "      <td>0.0</td>\n",
              "      <td>0.0</td>\n",
              "      <td>0.0</td>\n",
              "      <td>0.0</td>\n",
              "      <td>...</td>\n",
              "      <td>0.0</td>\n",
              "      <td>0.0</td>\n",
              "      <td>0.0</td>\n",
              "      <td>0.0</td>\n",
              "      <td>0.0</td>\n",
              "      <td>0.0</td>\n",
              "      <td>0.0</td>\n",
              "      <td>0.0</td>\n",
              "      <td>0.0</td>\n",
              "      <td>0.0</td>\n",
              "    </tr>\n",
              "    <tr>\n",
              "      <th>23279</th>\n",
              "      <td>0.0</td>\n",
              "      <td>0.0</td>\n",
              "      <td>0.0</td>\n",
              "      <td>0.0</td>\n",
              "      <td>0.0</td>\n",
              "      <td>0.0</td>\n",
              "      <td>0.0</td>\n",
              "      <td>0.0</td>\n",
              "      <td>0.0</td>\n",
              "      <td>0.0</td>\n",
              "      <td>...</td>\n",
              "      <td>0.0</td>\n",
              "      <td>0.0</td>\n",
              "      <td>0.0</td>\n",
              "      <td>0.0</td>\n",
              "      <td>0.0</td>\n",
              "      <td>0.0</td>\n",
              "      <td>0.0</td>\n",
              "      <td>0.0</td>\n",
              "      <td>0.0</td>\n",
              "      <td>0.0</td>\n",
              "    </tr>\n",
              "  </tbody>\n",
              "</table>\n",
              "<p>23280 rows × 545 columns</p>\n",
              "</div>\n",
              "      <button class=\"colab-df-convert\" onclick=\"convertToInteractive('df-e2add310-f16f-433f-8ab8-2e4554b4c03f')\"\n",
              "              title=\"Convert this dataframe to an interactive table.\"\n",
              "              style=\"display:none;\">\n",
              "        \n",
              "  <svg xmlns=\"http://www.w3.org/2000/svg\" height=\"24px\"viewBox=\"0 0 24 24\"\n",
              "       width=\"24px\">\n",
              "    <path d=\"M0 0h24v24H0V0z\" fill=\"none\"/>\n",
              "    <path d=\"M18.56 5.44l.94 2.06.94-2.06 2.06-.94-2.06-.94-.94-2.06-.94 2.06-2.06.94zm-11 1L8.5 8.5l.94-2.06 2.06-.94-2.06-.94L8.5 2.5l-.94 2.06-2.06.94zm10 10l.94 2.06.94-2.06 2.06-.94-2.06-.94-.94-2.06-.94 2.06-2.06.94z\"/><path d=\"M17.41 7.96l-1.37-1.37c-.4-.4-.92-.59-1.43-.59-.52 0-1.04.2-1.43.59L10.3 9.45l-7.72 7.72c-.78.78-.78 2.05 0 2.83L4 21.41c.39.39.9.59 1.41.59.51 0 1.02-.2 1.41-.59l7.78-7.78 2.81-2.81c.8-.78.8-2.07 0-2.86zM5.41 20L4 18.59l7.72-7.72 1.47 1.35L5.41 20z\"/>\n",
              "  </svg>\n",
              "      </button>\n",
              "      \n",
              "  <style>\n",
              "    .colab-df-container {\n",
              "      display:flex;\n",
              "      flex-wrap:wrap;\n",
              "      gap: 12px;\n",
              "    }\n",
              "\n",
              "    .colab-df-convert {\n",
              "      background-color: #E8F0FE;\n",
              "      border: none;\n",
              "      border-radius: 50%;\n",
              "      cursor: pointer;\n",
              "      display: none;\n",
              "      fill: #1967D2;\n",
              "      height: 32px;\n",
              "      padding: 0 0 0 0;\n",
              "      width: 32px;\n",
              "    }\n",
              "\n",
              "    .colab-df-convert:hover {\n",
              "      background-color: #E2EBFA;\n",
              "      box-shadow: 0px 1px 2px rgba(60, 64, 67, 0.3), 0px 1px 3px 1px rgba(60, 64, 67, 0.15);\n",
              "      fill: #174EA6;\n",
              "    }\n",
              "\n",
              "    [theme=dark] .colab-df-convert {\n",
              "      background-color: #3B4455;\n",
              "      fill: #D2E3FC;\n",
              "    }\n",
              "\n",
              "    [theme=dark] .colab-df-convert:hover {\n",
              "      background-color: #434B5C;\n",
              "      box-shadow: 0px 1px 3px 1px rgba(0, 0, 0, 0.15);\n",
              "      filter: drop-shadow(0px 1px 2px rgba(0, 0, 0, 0.3));\n",
              "      fill: #FFFFFF;\n",
              "    }\n",
              "  </style>\n",
              "\n",
              "      <script>\n",
              "        const buttonEl =\n",
              "          document.querySelector('#df-e2add310-f16f-433f-8ab8-2e4554b4c03f button.colab-df-convert');\n",
              "        buttonEl.style.display =\n",
              "          google.colab.kernel.accessAllowed ? 'block' : 'none';\n",
              "\n",
              "        async function convertToInteractive(key) {\n",
              "          const element = document.querySelector('#df-e2add310-f16f-433f-8ab8-2e4554b4c03f');\n",
              "          const dataTable =\n",
              "            await google.colab.kernel.invokeFunction('convertToInteractive',\n",
              "                                                     [key], {});\n",
              "          if (!dataTable) return;\n",
              "\n",
              "          const docLinkHtml = 'Like what you see? Visit the ' +\n",
              "            '<a target=\"_blank\" href=https://colab.research.google.com/notebooks/data_table.ipynb>data table notebook</a>'\n",
              "            + ' to learn more about interactive tables.';\n",
              "          element.innerHTML = '';\n",
              "          dataTable['output_type'] = 'display_data';\n",
              "          await google.colab.output.renderOutput(dataTable, element);\n",
              "          const docLink = document.createElement('div');\n",
              "          docLink.innerHTML = docLinkHtml;\n",
              "          element.appendChild(docLink);\n",
              "        }\n",
              "      </script>\n",
              "    </div>\n",
              "  </div>\n",
              "  "
            ]
          },
          "metadata": {},
          "execution_count": 16
        }
      ],
      "source": [
        "x_te"
      ]
    },
    {
      "cell_type": "markdown",
      "metadata": {
        "id": "sqAwOcPIgn5E"
      },
      "source": [
        "not important to use extratreeclassifier"
      ]
    },
    {
      "cell_type": "code",
      "execution_count": null,
      "metadata": {
        "colab": {
          "base_uri": "https://localhost:8080/"
        },
        "id": "crPrn7osJaQX",
        "outputId": "12dff433-1640-48b9-d7cc-c9afbda7a345"
      },
      "outputs": [
        {
          "output_type": "stream",
          "name": "stderr",
          "text": [
            "/usr/local/lib/python3.7/dist-packages/ipykernel_launcher.py:4: DataConversionWarning: A column-vector y was passed when a 1d array was expected. Please change the shape of y to (n_samples,), for example using ravel().\n",
            "  after removing the cwd from sys.path.\n"
          ]
        },
        {
          "output_type": "stream",
          "name": "stdout",
          "text": [
            "[0.00650416 0.00604844 0.00579674 0.00619687 0.00588778 0.00586086\n",
            " 0.00559714 0.00565115 0.00572439 0.00576931 0.00600396 0.00602987\n",
            " 0.0058803  0.00577786 0.00596299 0.00615613 0.00660953 0.00620575\n",
            " 0.0067535  0.00768338 0.01214668 0.00367303 0.00615981 0.00325575\n",
            " 0.00278624 0.00370426 0.0056218  0.00423466 0.00335733 0.00356628\n",
            " 0.00157379 0.0016836  0.00247328 0.00204913 0.00346374 0.0030071\n",
            " 0.00527485 0.00445178 0.00560445 0.00141007 0.00450047 0.00143764\n",
            " 0.00275158 0.0026692  0.00200168 0.00273285 0.0025373  0.0015937\n",
            " 0.00270334 0.00363291 0.00715521 0.00180745 0.0024603  0.00175792\n",
            " 0.0013828  0.00109624 0.00216965 0.00274597 0.00188133 0.00427395\n",
            " 0.00134412 0.00518471 0.00190991 0.00253158 0.00123906 0.00155147\n",
            " 0.00321448 0.00425495 0.00282655 0.00273674 0.00379892 0.00236481\n",
            " 0.0017947  0.00264525 0.00196924 0.00275697 0.00135749 0.00058614\n",
            " 0.00167236 0.00295973 0.00262731 0.00185475 0.00312118 0.00136278\n",
            " 0.00253418 0.00242013 0.00250912 0.00171806 0.0006381  0.00456404\n",
            " 0.00383265 0.00077564 0.00212977 0.00232462 0.00391084 0.00027368\n",
            " 0.00057229 0.00230601 0.001576   0.00132865 0.00095497 0.00137188\n",
            " 0.00217978 0.00221096 0.00096861 0.00181013 0.00205513 0.00084016\n",
            " 0.00162719 0.0029693  0.00149006 0.001637   0.00234274 0.00039424\n",
            " 0.00101106 0.00236219 0.00063579 0.00103817 0.00135039 0.00197678\n",
            " 0.00194649 0.0012103  0.00104592 0.0021577  0.00139404 0.00220023\n",
            " 0.00136327 0.00125399 0.00203577 0.00244524 0.00096294 0.00415686\n",
            " 0.00166354 0.00067342 0.0026858  0.00515932 0.00503775 0.00106049\n",
            " 0.00132877 0.00102363 0.00093401 0.00036502 0.00140965 0.00203444\n",
            " 0.00457482 0.00076172 0.00282664 0.00792469 0.00127511 0.00146095\n",
            " 0.00193281 0.00353685 0.00087925 0.00203631 0.00080896 0.00322363\n",
            " 0.00213169 0.00246797 0.00124558 0.00054602 0.00093438 0.00260369\n",
            " 0.00152782 0.00258176 0.00129596 0.00095246 0.00279597 0.00134766\n",
            " 0.00158323 0.00216033 0.00042094 0.00436926 0.00190706 0.0017006\n",
            " 0.00259347 0.00320011 0.00166047 0.00101283 0.00158102 0.00109459\n",
            " 0.00188494 0.00149516 0.00145471 0.00158849 0.00165574 0.00149614\n",
            " 0.00154033 0.00162804 0.00266826 0.00266182 0.00133033 0.00168534\n",
            " 0.00095753 0.00182082 0.00315451 0.00759194 0.00104309 0.00093628\n",
            " 0.00126505 0.0003825  0.00501886 0.00112311 0.00193133 0.0007594\n",
            " 0.00105125 0.00159868 0.00168886 0.00121272 0.00289336 0.00098965\n",
            " 0.0019289  0.00149579 0.00211368 0.00128409 0.00175314 0.00070693\n",
            " 0.00081342 0.00184762 0.00128252 0.00032705 0.00140383 0.00172823\n",
            " 0.00032115 0.00145331 0.0024642  0.0011603  0.00157426 0.00058475\n",
            " 0.00080464 0.00133558 0.00105059 0.00175701 0.00146305 0.00039072\n",
            " 0.00114255 0.00411641 0.00130162 0.00124391 0.00089626 0.00179099\n",
            " 0.00095334 0.00085825 0.00219122 0.00082329 0.00190673 0.0007734\n",
            " 0.00129381 0.0015144  0.00092068 0.00194362 0.00155733 0.00182206\n",
            " 0.0026299  0.00119657 0.00099442 0.00125934 0.0009791  0.00143597\n",
            " 0.00104398 0.00061662 0.00190282 0.00221201 0.00155024 0.00118972\n",
            " 0.00101228 0.0008814  0.00110632 0.00114686 0.00119103 0.00108873\n",
            " 0.00111505 0.00090999 0.00067678 0.00028131 0.00111614 0.00104324\n",
            " 0.0008055  0.00137713 0.00089459 0.00122369 0.00155375 0.00124353\n",
            " 0.00114473 0.00122612 0.00066595 0.00411203 0.00127273 0.00248301\n",
            " 0.00083084 0.00177071 0.00313759 0.00042321 0.00177236 0.0019668\n",
            " 0.00192537 0.00113375 0.00113007 0.00186548 0.00205051 0.00055183\n",
            " 0.00614864 0.00090986 0.0013948  0.00079605 0.00166476 0.00289959\n",
            " 0.00298996 0.00121285 0.00227799 0.00081272 0.00109768 0.00067392\n",
            " 0.00416787 0.00146297 0.00095927 0.00091534 0.00087788 0.00085466\n",
            " 0.0018412  0.00137776 0.00172809 0.00191566 0.00227296 0.00062535\n",
            " 0.00167412 0.00160536 0.00162139 0.00171973 0.00154529 0.00121165\n",
            " 0.00065212 0.00142666 0.00178345 0.00038884 0.00054982 0.00039309\n",
            " 0.00259071 0.00134029 0.0028485  0.00221719 0.00158777 0.00169045\n",
            " 0.00072232 0.00106853 0.00291766 0.00099154 0.00148284 0.00158417\n",
            " 0.00209954 0.00217749 0.00117388 0.00022954 0.00193019 0.00141231\n",
            " 0.00184184 0.0008181  0.00040995 0.00124635 0.003604   0.00278906\n",
            " 0.00067408 0.00085135 0.00150124 0.00089437 0.00028458 0.00154634\n",
            " 0.00045154 0.00164758 0.00111741 0.00145526 0.00092068 0.0016644\n",
            " 0.00154032 0.00027004 0.0023515  0.00170176 0.00124069 0.00064911\n",
            " 0.00022982 0.00069978 0.00030797 0.00146533 0.00097367 0.00042441\n",
            " 0.00196304 0.00268131 0.00154261 0.00090439 0.00256993 0.00113015\n",
            " 0.00094556 0.00150227 0.00189074 0.00088989 0.00151428 0.00110226\n",
            " 0.00055504 0.00197539 0.00168356 0.00127779 0.00170296 0.00154603\n",
            " 0.00075941 0.00097118 0.00111586 0.00045163 0.00071031 0.00088322\n",
            " 0.00109254 0.00232002 0.00120792 0.00086657 0.00106832 0.002346\n",
            " 0.00246269 0.00149862 0.00212926 0.00092871 0.00131147 0.0011509\n",
            " 0.00104314 0.00078626 0.00158999 0.00120622 0.00072507 0.00094293\n",
            " 0.00163856 0.00086392 0.00166795 0.00105152 0.00141094 0.0007913\n",
            " 0.0004182  0.00042699 0.0006701  0.00046827 0.00110497 0.00099141\n",
            " 0.00407491 0.0023968  0.00021889 0.00135844 0.00272443 0.0008097\n",
            " 0.00269963 0.00105229 0.0018858  0.00199292 0.00229455 0.00087447\n",
            " 0.00027766 0.00033729 0.00075014 0.00063348 0.00097943 0.00131527\n",
            " 0.00070016 0.00058983 0.00156133 0.00039718 0.00086033 0.00113227\n",
            " 0.00039931 0.00121763 0.00064709 0.00105332 0.00113374 0.00105603\n",
            " 0.00055643 0.00279848 0.00166678 0.00097113 0.00131672 0.00230191\n",
            " 0.00235478 0.00064399 0.00025994 0.00069065 0.00063707 0.00051466\n",
            " 0.0007347  0.00055491 0.00088098 0.00091983 0.0006267  0.00068219\n",
            " 0.0008521  0.00063814 0.00044223 0.0009177  0.00058799 0.00180722\n",
            " 0.00261129 0.00053335 0.0006189  0.00029015 0.0010048  0.00225438\n",
            " 0.00378402 0.00062041 0.00092737 0.00097683 0.00073838 0.00181198\n",
            " 0.0009332  0.00115433 0.00104847 0.00181245 0.00225862 0.00138322\n",
            " 0.00094813 0.00105686 0.00057524 0.00188117 0.00131017 0.0012238\n",
            " 0.00062968 0.00096472 0.00172099 0.00093505 0.00096113 0.00145685\n",
            " 0.00096253 0.00118517 0.00121133 0.00147406 0.00067456 0.00079284\n",
            " 0.00114343 0.00056419 0.00331351 0.00079887 0.00137506 0.00081282\n",
            " 0.00129972 0.00076082 0.00089284 0.00217536 0.00056679 0.00466712\n",
            " 0.00196592 0.00048545 0.00181932 0.00235104 0.00051943]\n"
          ]
        }
      ],
      "source": [
        "from sklearn.ensemble import ExtraTreesClassifier\n",
        "\n",
        "model = ExtraTreesClassifier()\n",
        "model.fit(x_tr, y_tr)\n",
        "\n",
        "print(model.feature_importances_)"
      ]
    },
    {
      "cell_type": "code",
      "execution_count": null,
      "metadata": {
        "colab": {
          "base_uri": "https://localhost:8080/",
          "height": 285
        },
        "id": "_mTlR_SX6gph",
        "outputId": "c65b868a-7122-4ce4-df20-dde20da5d0e9"
      },
      "outputs": [
        {
          "output_type": "execute_result",
          "data": {
            "text/plain": [
              "<function matplotlib.pyplot.show(*args, **kw)>"
            ]
          },
          "metadata": {},
          "execution_count": 18
        },
        {
          "output_type": "display_data",
          "data": {
            "text/plain": [
              "<Figure size 432x288 with 1 Axes>"
            ],
            "image/png": "[encoded data removed]"
          },
          "metadata": {
            "needs_background": "light"
          }
        }
      ],
      "source": [
        "import matplotlib.pyplot as plt\n",
        "feat_importance=pd.Series(model.feature_importances_,index=x_tr.columns)\n",
        "feat_importance.nlargest(40).plot(kind='barh')\n",
        "plt.show"
      ]
    },
    {
      "cell_type": "code",
      "execution_count": null,
      "metadata": {
        "id": "bJ_pA7Xo-lcu"
      },
      "outputs": [],
      "source": [
        "# y_tr=np.array(y_tr)\n",
        "# y_tr=y_tr.ravel()"
      ]
    },
    {
      "cell_type": "markdown",
      "metadata": {
        "id": "_NrgxOlRg5Za"
      },
      "source": [
        "#scalling data\n",
        "---\n",
        "making standard devation near to 1."
      ]
    },
    {
      "cell_type": "code",
      "execution_count": null,
      "metadata": {
        "id": "REkCSb4gQyLr"
      },
      "outputs": [],
      "source": [
        "from sklearn.preprocessing import StandardScaler\n",
        "\n",
        "scaler_tr = StandardScaler()\n",
        "scaler_te = StandardScaler()\n",
        "x_tr1 = scaler_tr.fit_transform(x_tr)\n",
        "x_te1 =scaler_te.fit_transform(x_te)"
      ]
    },
    {
      "cell_type": "code",
      "execution_count": null,
      "metadata": {
        "colab": {
          "base_uri": "https://localhost:8080/"
        },
        "id": "mK9XCEbqH2Ut",
        "outputId": "e2327ab7-b6d0-4f4d-8684-8ccb02c0a37d"
      },
      "outputs": [
        {
          "output_type": "execute_result",
          "data": {
            "text/plain": [
              "array([ 1.91339714e-14, -2.85388785e-15,  1.34548300e-14, -1.78956714e-15,\n",
              "       -2.99802463e-16,  1.13405776e-14, -1.01756123e-14,  1.62468170e-14,\n",
              "        1.19308440e-14,  3.86319380e-15, -1.50952754e-14,  1.09032139e-14,\n",
              "        1.59423210e-14, -1.55166785e-14, -9.95096953e-15, -5.95072993e-15,\n",
              "       -1.72696448e-14,  2.08672258e-14, -6.77976616e-15,  2.11817372e-14,\n",
              "       -6.88925494e-18, -4.11192115e-14,  1.93836554e-14, -4.35453698e-14,\n",
              "        8.06207376e-15, -2.36592181e-14, -2.28950484e-14, -3.65797997e-15,\n",
              "        6.51601215e-16,  1.55470090e-14,  1.06271146e-14, -1.76764362e-15,\n",
              "       -1.21352921e-14,  1.98434939e-14,  1.41743690e-14,  6.60018716e-15,\n",
              "       -3.86155825e-14,  1.46425933e-14, -2.08995027e-14,  1.88942036e-14,\n",
              "       -3.63056807e-14,  4.17333606e-14, -4.72863757e-14,  6.47380635e-15,\n",
              "       -1.95573665e-14, -2.97195424e-14, -1.10688560e-14, -5.73536335e-15,\n",
              "       -8.48355506e-15, -3.15969167e-14,  1.83754141e-14, -1.06833038e-15,\n",
              "        5.14311872e-15,  2.39516877e-14, -1.06966176e-14, -3.53393779e-14,\n",
              "       -2.00075232e-14, -1.79288387e-14,  2.29353119e-14, -1.66742064e-14,\n",
              "        9.65798133e-15,  3.94276137e-14,  1.23079280e-14, -2.84922475e-14,\n",
              "        2.16234755e-14, -3.56558675e-14, -3.40760504e-14, -2.56250036e-14,\n",
              "        2.23305054e-14, -1.16669527e-14,  3.40921387e-14,  1.73603711e-14,\n",
              "        1.27411315e-14,  1.17979637e-14, -1.50504640e-14, -2.08865565e-14,\n",
              "        3.03338669e-14,  6.36444221e-15, -2.06782207e-16,  4.11121648e-15,\n",
              "        1.00276860e-14, -2.13681495e-15,  3.11224157e-14, -5.06359974e-15,\n",
              "       -2.93759267e-14,  3.01532032e-14,  1.89217501e-14,  3.46975133e-14,\n",
              "        1.53246195e-14, -3.50942702e-14,  3.40765827e-14, -6.67815942e-15,\n",
              "        2.64533586e-14, -1.36483554e-14,  6.03317497e-15, -2.55693725e-15,\n",
              "       -3.06841902e-15,  1.99769266e-14, -1.34865905e-14, -5.93300882e-15,\n",
              "        1.91212607e-14, -5.72009778e-15, -5.21996935e-15,  2.23665803e-14,\n",
              "        1.29529705e-14,  2.65334495e-14,  7.22070277e-15,  5.74897288e-15,\n",
              "        1.37684311e-14,  2.35980101e-14,  1.99948854e-14,  3.76633022e-17,\n",
              "        1.06919821e-14, -2.69030792e-15, -3.96731206e-15,  2.11883287e-14,\n",
              "        3.02359292e-15, -8.36670704e-15, -1.50305609e-14, -1.89727641e-14,\n",
              "       -2.86352045e-14,  8.91705321e-15,  4.26363135e-15,  3.17941016e-14,\n",
              "       -1.08910682e-14, -4.17046640e-15, -2.34515424e-14,  6.38820660e-15,\n",
              "       -9.02693593e-15,  2.98115836e-14,  2.87789463e-15,  2.93475881e-14,\n",
              "       -8.29832567e-16, -2.08998534e-15,  7.64623334e-15, -1.97749457e-14,\n",
              "       -8.61442027e-15, -1.79446429e-14,  1.77079294e-14,  1.08711028e-14,\n",
              "       -1.79145332e-14,  1.19191609e-14, -3.15134250e-14, -3.39912586e-14,\n",
              "       -1.91793858e-14, -2.56542029e-14, -1.62393353e-14,  4.36767462e-14,\n",
              "        2.28210610e-14,  2.23550641e-14, -2.80669355e-14,  6.36539908e-15,\n",
              "        6.46439819e-15,  1.91814221e-14, -2.93133520e-15, -7.59948505e-15,\n",
              "        2.03746979e-14, -1.63929066e-14, -4.64458930e-15, -1.35998154e-14,\n",
              "       -1.34689739e-15,  1.83726005e-14, -3.74767790e-14, -1.79625816e-14,\n",
              "       -2.70791275e-14, -2.38575638e-14, -1.85858854e-14, -1.23897975e-14,\n",
              "        2.01073462e-14,  1.06071418e-14,  7.98164173e-15,  1.29097530e-14,\n",
              "       -1.17784820e-14,  1.52787478e-14, -5.10313295e-15,  4.65713000e-15,\n",
              "        1.50952616e-14, -3.26261088e-16, -2.16003120e-15, -2.88490059e-16,\n",
              "        4.01321659e-14, -1.36522357e-14, -1.18734915e-14, -9.68006434e-15,\n",
              "       -6.38534232e-15, -1.27870433e-14,  1.68729999e-14, -6.08843687e-15,\n",
              "        2.92162096e-14,  3.88633939e-14,  1.25456416e-14, -1.52275658e-14,\n",
              "       -2.19966411e-14,  3.72002161e-14,  2.61017774e-14, -2.01974504e-14,\n",
              "        6.02090676e-15,  1.29733701e-14, -9.60007061e-15, -1.06047950e-15,\n",
              "       -1.77519487e-14, -8.32084380e-15,  1.49901802e-14, -5.29279077e-15,\n",
              "        1.44140186e-14,  1.23697829e-14, -2.37134006e-15, -1.61839054e-14,\n",
              "        6.96602424e-15, -1.33502734e-14, -1.38599674e-14,  8.70946305e-16,\n",
              "        2.62649988e-14,  7.44984997e-15, -2.90420487e-15,  1.55088535e-14,\n",
              "        1.53184627e-14,  1.59127689e-14, -2.07826093e-14,  5.47175034e-15,\n",
              "       -1.88833073e-15,  9.01109159e-15,  4.03266071e-15, -9.60188824e-15,\n",
              "       -2.41879460e-14,  1.07617339e-14, -8.11723110e-15, -6.16606060e-15,\n",
              "       -1.04893786e-14,  8.88414997e-15, -1.02067354e-14,  2.75441104e-14,\n",
              "       -8.57214794e-16,  6.76599240e-15,  1.00108415e-14, -3.27498450e-14,\n",
              "       -9.05298583e-15, -4.69640287e-15, -1.67094638e-14, -1.25816119e-14,\n",
              "       -1.65077363e-14,  3.47758035e-15,  2.60192394e-14,  1.23922234e-14,\n",
              "        1.68693351e-14, -4.18566596e-15,  1.20863618e-14, -2.52386740e-15,\n",
              "        7.52470236e-16,  7.03990286e-15, -6.30798263e-16, -2.55186114e-14,\n",
              "        4.66977632e-15,  1.49583489e-14, -1.78180656e-16,  1.05627640e-14,\n",
              "        2.90382845e-14,  1.99850041e-14,  1.79742436e-15,  5.93640381e-15,\n",
              "       -9.42859016e-15, -1.02181962e-14, -2.21862947e-16, -1.24373146e-14,\n",
              "        9.50652281e-15, -5.88778455e-15,  1.69410560e-15,  1.03930859e-14,\n",
              "       -6.12339908e-15, -5.55846275e-15, -1.66049843e-15, -1.43407219e-14,\n",
              "       -8.90998335e-17, -1.89449600e-15, -6.14887496e-15, -1.56254174e-14,\n",
              "        5.66580754e-16,  1.60887792e-14, -2.11969986e-14,  6.21285536e-15,\n",
              "       -1.85030950e-14, -2.19487364e-14,  5.35319822e-15, -2.60294840e-14,\n",
              "        9.04319692e-15,  6.79169219e-15,  2.14019051e-14, -2.28901996e-14,\n",
              "       -1.85002915e-14, -8.41472904e-15,  9.93481468e-15,  1.74891399e-14,\n",
              "       -2.45926218e-14,  2.39199589e-14,  5.18100276e-15,  1.27606196e-14,\n",
              "       -9.19420341e-16,  3.84676330e-15, -1.79114608e-14,  6.86892672e-15,\n",
              "       -5.06368159e-15, -4.77274760e-15, -1.36530722e-14, -4.64769173e-15,\n",
              "       -1.70225146e-14,  1.12880067e-15,  5.18791842e-15, -1.50732182e-14,\n",
              "       -3.94713995e-14, -1.05745897e-14,  2.15678355e-15, -1.20899359e-14,\n",
              "       -1.83262789e-14, -4.23930720e-15, -4.92043462e-15,  1.01180860e-14,\n",
              "        2.82282695e-14,  2.27935504e-14, -1.58177040e-14, -1.17852867e-14,\n",
              "        8.84229165e-15, -2.62474952e-14, -7.21012228e-15, -1.28072501e-14,\n",
              "       -6.97604603e-15,  4.28106307e-15, -2.45352223e-14, -2.00112557e-14,\n",
              "       -1.04400829e-14, -5.40371063e-15,  1.39768577e-14,  5.13951831e-15,\n",
              "       -6.08591690e-16, -1.29763600e-15,  1.46228951e-15, -1.13963765e-14,\n",
              "       -1.13299865e-14, -9.13570441e-15, -9.23956497e-15, -2.70807814e-15,\n",
              "       -1.39886411e-14,  1.57253892e-14,  1.25386288e-14, -4.87154710e-16,\n",
              "       -1.46488827e-14, -1.40847844e-14,  1.10266417e-14,  8.82316058e-15,\n",
              "        2.25464952e-14, -8.16586567e-15, -8.66562551e-15, -8.42852709e-15,\n",
              "       -7.57618061e-15,  1.77531484e-14,  2.09809592e-14, -3.92643912e-15,\n",
              "        4.41275367e-15, -2.57752977e-14,  3.62864260e-14,  7.91800246e-15,\n",
              "       -3.91497358e-15, -2.33760985e-16, -3.36279235e-15,  2.18259591e-14,\n",
              "        2.04998584e-15, -2.22397781e-14,  3.58766004e-15, -6.95592535e-15,\n",
              "        8.50497057e-15, -1.77828547e-14, -7.50275032e-16,  5.93048463e-15,\n",
              "       -3.00976150e-14, -9.28921081e-15,  1.35018302e-14,  2.13786313e-14,\n",
              "       -6.55593878e-15,  3.15763239e-15,  4.44232001e-15, -2.15839734e-17,\n",
              "        3.53440271e-15,  2.64947237e-14, -1.40943283e-14, -2.61867308e-15,\n",
              "        1.36469117e-14,  1.59342161e-14, -5.32167009e-15,  9.84876025e-15,\n",
              "       -4.95816657e-15,  7.36500377e-15, -5.40955852e-15, -1.05359362e-14,\n",
              "        2.56972494e-14, -1.13329279e-14, -1.11426818e-14, -1.67841314e-14,\n",
              "       -1.23673786e-14, -2.47886060e-14, -1.04077748e-14, -2.06699922e-14,\n",
              "       -2.14453212e-14,  9.82865541e-15, -7.68672818e-15, -1.69174643e-15,\n",
              "       -1.76959390e-14,  1.44073405e-16,  1.75003836e-14, -2.32841149e-14,\n",
              "       -9.66217213e-15,  1.57930271e-14,  1.27191958e-14,  1.73809819e-14,\n",
              "        2.76068699e-15, -2.04872458e-14,  1.89715633e-14, -4.37088214e-15,\n",
              "       -6.52831522e-15,  8.80754965e-15,  5.49395638e-15, -1.38012023e-14,\n",
              "        1.58007618e-14, -1.57304566e-14, -1.20140875e-14, -4.42510479e-15,\n",
              "        5.89196373e-15,  3.51933517e-15,  1.78473727e-14,  1.35157819e-14,\n",
              "       -4.26373907e-16,  1.89986355e-14,  1.76039221e-14, -9.26784440e-15,\n",
              "       -4.28834574e-15,  9.70237388e-15,  5.89254250e-15, -4.98001934e-15,\n",
              "        2.24048509e-14, -7.44637894e-15,  9.27815188e-15,  7.69297529e-15,\n",
              "       -1.01685144e-14, -2.22669010e-14,  3.27635982e-15, -1.94781194e-15,\n",
              "        3.26314952e-14,  1.35476454e-14, -1.06954806e-14,  2.39091883e-14,\n",
              "       -1.15374372e-15, -1.27286315e-14,  5.41964579e-15,  4.09703769e-15,\n",
              "        6.32668279e-15,  3.95550538e-15, -1.05932090e-14, -1.70258541e-14,\n",
              "       -5.33447166e-15, -1.96943869e-15, -2.58583479e-14,  4.73711052e-15,\n",
              "       -1.01427692e-14, -8.66387864e-15,  4.44633285e-15,  2.07143336e-14,\n",
              "        8.29115495e-15,  1.00781013e-14, -1.23166523e-14, -2.92321553e-15,\n",
              "        7.07875275e-15, -1.61686219e-14, -6.00968201e-15,  2.97318613e-15,\n",
              "        4.34190883e-15,  2.76332969e-14, -1.73744686e-14, -7.27786098e-15,\n",
              "        8.48418874e-15, -1.22771408e-14, -9.96053928e-16,  1.26309552e-14,\n",
              "       -5.12933599e-15, -9.20536478e-15,  1.40490903e-14,  1.85311717e-15,\n",
              "       -2.51257274e-14,  4.49360076e-15,  9.98492522e-15,  7.59950142e-15,\n",
              "        9.50588859e-16,  4.83842154e-15,  1.48224638e-14,  2.71048056e-14,\n",
              "       -9.68813278e-15, -6.36303911e-15,  3.49369770e-15,  1.13754410e-14,\n",
              "        2.32611579e-15,  3.51325081e-14, -2.82365445e-14,  5.88057476e-15,\n",
              "        1.46512939e-14, -1.76540722e-15,  6.78678479e-15,  2.17378067e-14,\n",
              "        8.11459442e-15, -1.28352892e-14, -8.26271974e-15,  1.43717621e-14,\n",
              "       -2.50322235e-15, -1.44901135e-14, -1.79997738e-14, -1.45097943e-14,\n",
              "       -9.55325684e-15,  5.30928252e-15, -4.04623538e-15, -1.27047604e-14,\n",
              "        1.42175813e-14, -1.01791092e-14, -2.51698765e-14,  1.12949974e-14,\n",
              "        1.80147373e-14,  1.07755171e-14, -1.18137531e-14, -3.64212719e-17,\n",
              "        5.56179489e-15, -4.28295992e-15,  1.49855970e-14,  7.02754487e-15,\n",
              "       -1.34797086e-14, -8.85137769e-15,  3.27729029e-14, -1.08474572e-14,\n",
              "        1.85761314e-14,  1.53696141e-14,  7.83633791e-15,  4.80825161e-15,\n",
              "        3.11336657e-17, -1.19817641e-14, -9.20624878e-16,  3.88581797e-14,\n",
              "        1.01125169e-14, -3.06416116e-15,  1.51329413e-14,  2.48273434e-14,\n",
              "        6.85883787e-17])"
            ]
          },
          "metadata": {},
          "execution_count": 21
        }
      ],
      "source": [
        "np.mean(x_tr1,axis=0)"
      ]
    },
    {
      "cell_type": "code",
      "execution_count": null,
      "metadata": {
        "colab": {
          "base_uri": "https://localhost:8080/"
        },
        "id": "C6BN6bXFIPIV",
        "outputId": "723c16b3-ad53-43b1-8a13-731b6c527956"
      },
      "outputs": [
        {
          "output_type": "execute_result",
          "data": {
            "text/plain": [
              "array([1., 1., 1., 1., 1., 1., 1., 1., 1., 1., 1., 1., 1., 1., 1., 1., 1.,\n",
              "       1., 1., 1., 1., 1., 1., 1., 1., 1., 1., 1., 1., 1., 1., 1., 1., 1.,\n",
              "       1., 1., 1., 1., 1., 1., 1., 1., 1., 1., 1., 1., 1., 1., 1., 1., 1.,\n",
              "       1., 1., 1., 1., 1., 1., 1., 1., 1., 1., 1., 1., 1., 1., 1., 1., 1.,\n",
              "       1., 1., 1., 1., 1., 1., 1., 1., 1., 1., 1., 1., 1., 1., 1., 1., 1.,\n",
              "       1., 1., 1., 1., 1., 1., 1., 1., 1., 1., 1., 1., 1., 1., 1., 1., 1.,\n",
              "       1., 1., 1., 1., 1., 1., 1., 1., 1., 1., 1., 1., 1., 1., 1., 1., 1.,\n",
              "       1., 1., 1., 1., 1., 1., 1., 1., 1., 1., 1., 1., 1., 1., 1., 1., 1.,\n",
              "       1., 1., 1., 1., 1., 1., 1., 1., 1., 1., 1., 1., 1., 1., 1., 1., 1.,\n",
              "       1., 1., 1., 1., 1., 1., 1., 1., 1., 1., 1., 1., 1., 1., 1., 1., 1.,\n",
              "       1., 1., 1., 1., 1., 1., 1., 1., 1., 1., 1., 1., 1., 1., 1., 1., 1.,\n",
              "       1., 1., 1., 1., 1., 1., 1., 1., 1., 1., 1., 1., 1., 1., 1., 1., 1.,\n",
              "       1., 1., 1., 1., 1., 1., 1., 1., 1., 1., 1., 1., 1., 1., 1., 1., 1.,\n",
              "       1., 1., 1., 1., 1., 1., 1., 1., 1., 1., 1., 1., 1., 1., 1., 1., 1.,\n",
              "       1., 1., 1., 1., 1., 1., 1., 1., 1., 1., 1., 1., 1., 1., 1., 1., 1.,\n",
              "       1., 1., 1., 1., 1., 1., 1., 1., 1., 1., 1., 1., 1., 1., 1., 1., 1.,\n",
              "       1., 1., 1., 1., 1., 1., 1., 1., 1., 1., 1., 1., 1., 1., 1., 1., 1.,\n",
              "       1., 1., 1., 1., 1., 1., 1., 1., 1., 1., 1., 1., 1., 1., 1., 1., 1.,\n",
              "       1., 1., 1., 1., 1., 1., 1., 1., 1., 1., 1., 1., 1., 1., 1., 1., 1.,\n",
              "       1., 1., 1., 1., 1., 1., 1., 1., 1., 1., 1., 1., 1., 1., 1., 1., 1.,\n",
              "       1., 1., 1., 1., 1., 1., 1., 1., 1., 1., 1., 1., 1., 1., 1., 1., 1.,\n",
              "       1., 1., 1., 1., 1., 1., 1., 1., 1., 1., 1., 1., 1., 1., 1., 1., 1.,\n",
              "       1., 1., 1., 1., 1., 1., 1., 1., 1., 1., 1., 1., 1., 1., 1., 1., 1.,\n",
              "       1., 1., 1., 1., 1., 1., 1., 1., 1., 1., 1., 1., 1., 1., 1., 1., 1.,\n",
              "       1., 1., 1., 1., 1., 1., 1., 1., 1., 1., 1., 1., 1., 1., 1., 1., 1.,\n",
              "       1., 1., 1., 1., 1., 1., 1., 1., 1., 1., 1., 1., 1., 1., 1., 1., 1.,\n",
              "       1., 1., 1., 1., 1., 1., 1., 1., 1., 1., 1., 1., 1., 1., 1., 1., 1.,\n",
              "       1., 1., 1., 1., 1., 1., 1., 1., 1., 1., 1., 1., 1., 1., 1., 1., 1.,\n",
              "       1., 1., 1., 1., 1., 1., 1., 1., 1., 1., 1., 1., 1., 1., 1., 1., 1.,\n",
              "       1., 1., 1., 1., 1., 1., 1., 1., 1., 1., 1., 1., 1., 1., 1., 1., 1.,\n",
              "       1., 1., 1., 1., 1., 1., 1., 1., 1., 1., 1., 1., 1., 1., 1., 1., 1.,\n",
              "       1., 1., 1., 1., 1., 1., 1., 1., 1., 1., 1., 1., 1., 1., 1., 1., 1.,\n",
              "       1.])"
            ]
          },
          "metadata": {},
          "execution_count": 22
        }
      ],
      "source": [
        "np.std(x_tr1,axis=0)"
      ]
    },
    {
      "cell_type": "code",
      "execution_count": null,
      "metadata": {
        "colab": {
          "base_uri": "https://localhost:8080/"
        },
        "id": "-ekGRewoITVv",
        "outputId": "9f7287d8-f600-4dcf-9add-ce8dacd73f71"
      },
      "outputs": [
        {
          "output_type": "execute_result",
          "data": {
            "text/plain": [
              "array([ 6.61450658e-15, -2.61125600e-15, -3.09700719e-15,  1.42171021e-15,\n",
              "       -1.82782388e-15,  1.80859051e-15,  3.92512006e-15, -1.22648646e-15,\n",
              "        4.34710496e-15,  4.63483299e-15, -2.32204004e-15, -1.23097075e-14,\n",
              "        3.99678858e-15, -5.12820504e-15, -1.85810226e-15,  5.82509413e-16,\n",
              "        1.73540544e-15,  1.77582128e-14,  4.93586653e-16,  5.99609614e-15,\n",
              "       -2.92983469e-15, -1.67706294e-14,  1.24552001e-14,  5.96836441e-15,\n",
              "        1.24683244e-14, -5.07049538e-15,  1.64883332e-14, -6.97214337e-15,\n",
              "        2.85636825e-16, -6.35804410e-15,  6.66240760e-15,  1.18779247e-14,\n",
              "       -2.99815060e-15,  8.38500947e-15, -2.11736413e-15, -4.46715021e-15,\n",
              "       -1.12559876e-14,  8.93074751e-15,  1.48535775e-14, -6.12844302e-15,\n",
              "        6.13330978e-15, -6.62825322e-15, -1.03130324e-14, -8.68057535e-15,\n",
              "       -3.12728318e-15,  5.44539595e-15, -6.94476931e-15, -4.77084246e-15,\n",
              "       -1.77234945e-14,  8.91911592e-15, -1.80362455e-14,  5.82839428e-15,\n",
              "        6.57887738e-15,  6.29726082e-15, -4.90603406e-15, -1.09055090e-15,\n",
              "        7.94245826e-16, -1.11666642e-14,  3.25041874e-15, -1.75297873e-14,\n",
              "        6.18051930e-15,  3.66234343e-15,  3.98424134e-15,  4.16180788e-15,\n",
              "        4.38330405e-15,  1.13970379e-14,  5.43977330e-15,  4.82223559e-15,\n",
              "        4.55151619e-15, -9.82796319e-15,  9.80896349e-15, -1.16039457e-14,\n",
              "       -4.17871398e-15, -2.49508795e-15, -5.46777686e-16,  5.85238234e-15,\n",
              "       -3.78500686e-15, -9.38588828e-16,  3.90064317e-15, -4.01269081e-15,\n",
              "        1.24119739e-14, -8.88461937e-15, -7.49800661e-15, -2.16809198e-15,\n",
              "        1.21058542e-14,  9.59699817e-15, -1.94687956e-15, -9.80865828e-15,\n",
              "       -8.16582269e-15,  7.14143807e-15, -1.23476115e-14, -1.51291374e-15,\n",
              "       -6.67954619e-15,  1.07030412e-15, -5.79255525e-15,  1.67210294e-15,\n",
              "       -7.31640788e-16,  5.38230686e-15,  1.40533347e-15,  2.09610274e-15,\n",
              "       -9.28370353e-16,  5.22990156e-15, -5.22103599e-15,  6.22587367e-15,\n",
              "       -5.45210474e-16,  5.22226878e-16,  1.03090861e-14,  5.41996884e-15,\n",
              "       -2.92751457e-15, -1.28188959e-14,  7.12479903e-15,  9.55552457e-16,\n",
              "       -7.73302766e-15, -1.44534895e-15, -4.60116386e-15, -7.29912742e-15,\n",
              "        1.12745103e-15,  8.26588940e-15, -1.73397355e-15, -1.60746988e-15,\n",
              "       -2.85837362e-15, -4.22668534e-15, -2.73572688e-15,  5.20783063e-15,\n",
              "        1.60660431e-16,  1.31603634e-15, -1.09986070e-14,  1.11234702e-14,\n",
              "        7.57870523e-15, -7.52185637e-16, -2.72863776e-15, -1.73520228e-14,\n",
              "        9.82288897e-15, -2.50381164e-15,  4.22376910e-15,  6.64605827e-15,\n",
              "       -9.72627858e-16, -5.70943517e-15, -4.05036829e-15,  1.09446148e-16,\n",
              "        3.82768106e-15, -1.54703891e-15,  1.99427388e-15, -5.93890153e-15,\n",
              "        1.58168629e-15, -8.74050259e-16,  7.31658672e-15, -7.74403928e-15,\n",
              "       -5.59602121e-15,  5.48437059e-15,  6.70691309e-15,  4.54550010e-15,\n",
              "       -3.21809565e-15, -5.01498661e-15, -2.99807966e-15, -4.18718134e-15,\n",
              "       -4.27547936e-16, -8.11290468e-15, -1.54783832e-15,  9.26642783e-15,\n",
              "        5.18845419e-15,  6.15370679e-15, -4.47626853e-15,  3.20355378e-15,\n",
              "        3.94526670e-15,  4.49664289e-15,  5.91309170e-15,  1.34838303e-14,\n",
              "        7.21974981e-15,  1.88944173e-15, -3.87744795e-15, -4.14963262e-15,\n",
              "        4.59982377e-15, -1.32003515e-15,  3.49546184e-15, -7.74654300e-15,\n",
              "        3.39482404e-15, -9.77480673e-15, -3.11138095e-15, -2.00860353e-15,\n",
              "       -3.89535912e-15,  3.49245976e-15, -6.69309253e-15, -1.03971337e-16,\n",
              "       -2.55237555e-15,  9.32209397e-15, -1.32972790e-14, -1.80348529e-15,\n",
              "       -5.97614980e-15, -3.55334557e-15, -2.02881812e-15, -5.08251683e-15,\n",
              "        6.69602189e-15,  1.00567035e-14,  1.00229604e-14, -1.67372798e-16,\n",
              "        7.77849649e-15, -2.28075124e-15, -5.50598131e-15,  1.67411695e-15,\n",
              "       -8.37506849e-15, -4.38006828e-15, -6.35599343e-15, -7.86243803e-15,\n",
              "       -6.54861093e-16, -4.96153567e-15, -8.66250561e-16,  2.49104741e-15,\n",
              "        8.82985933e-15, -3.75678035e-15, -2.78111821e-15,  1.22065397e-15,\n",
              "       -8.25117227e-15, -1.41189799e-15,  1.08877207e-15, -1.61354440e-15,\n",
              "       -2.48694369e-15, -1.28233859e-15, -1.00557139e-14,  4.84907671e-16,\n",
              "        3.47595544e-15,  3.80612638e-15,  7.01358537e-16,  1.18913256e-14,\n",
              "       -3.00264777e-15, -3.95362795e-15, -6.81015477e-16,  2.96704719e-15,\n",
              "       -8.42867323e-15,  8.22111327e-15,  1.28053710e-15, -1.03308661e-14,\n",
              "        1.28956482e-15, -4.26403406e-15,  2.57223724e-15, -6.37596123e-15,\n",
              "       -5.42735005e-15,  8.36072334e-16, -5.54349903e-15, -6.11206151e-15,\n",
              "       -2.85478137e-15,  1.16373120e-16, -8.57125796e-15,  5.90629111e-15,\n",
              "        3.10517171e-15, -5.14726315e-15, -1.01915064e-15, -4.84287343e-15,\n",
              "        2.06551319e-16, -8.97611739e-15,  2.16251582e-15, -1.18385995e-14,\n",
              "        1.01075362e-15,  6.04112264e-15, -4.84725018e-15,  2.76350392e-15,\n",
              "        3.08087247e-15,  6.11644899e-15,  2.16825174e-15, -4.24358429e-15,\n",
              "        1.01266122e-15,  1.01905621e-14, -5.81360084e-16, -3.45993518e-15,\n",
              "       -2.79968989e-15, -2.64276835e-15, -2.88701742e-15,  7.25088183e-16,\n",
              "       -8.23045216e-15,  4.24138817e-15, -3.91026463e-15, -3.73920897e-15,\n",
              "       -2.20015753e-15, -2.27313455e-16,  2.34144629e-15, -6.14616820e-15,\n",
              "       -4.99895204e-15,  4.60152392e-15, -1.57541506e-15, -1.05776403e-17,\n",
              "       -1.81534818e-15,  2.35520843e-15,  8.72422242e-15, -6.25572403e-15,\n",
              "       -1.17931390e-16, -7.89937512e-15,  1.93857435e-16, -1.25443685e-14,\n",
              "       -1.59971430e-15,  1.42939545e-15, -8.25983516e-16,  2.91401204e-15,\n",
              "       -9.04654120e-15, -5.39621803e-15,  3.68360482e-15, -7.69564467e-15,\n",
              "        2.30489430e-15,  7.95126899e-16, -2.26570385e-15, -1.92028881e-15,\n",
              "       -7.46134254e-15,  2.92657388e-15,  1.28346884e-15,  3.72017709e-16,\n",
              "        4.72417304e-15, -7.39234704e-15, -9.77985829e-16, -4.83672857e-15,\n",
              "        3.24383752e-15, -1.01665049e-15, -1.54807081e-15,  1.24833205e-15,\n",
              "       -3.58676433e-16, -3.00324866e-15,  3.39225712e-15, -4.77063859e-15,\n",
              "        6.72908774e-15, -4.70062134e-15,  2.43063254e-15,  3.30114897e-15,\n",
              "        5.20294241e-15,  6.66240402e-15,  8.17415174e-15,  1.95942441e-15,\n",
              "        9.83594172e-16,  2.58076540e-15, -3.77678511e-16,  4.06188900e-15,\n",
              "        8.42197398e-15, -2.87780491e-15, -3.86669386e-15, -1.18368111e-15,\n",
              "       -5.15582231e-15, -3.80532876e-15,  2.14527515e-15,  1.74634016e-15,\n",
              "        5.75609386e-15,  2.32324779e-15,  1.27807463e-14, -9.17379241e-15,\n",
              "       -3.78528227e-15,  2.86804396e-15,  6.76342811e-15,  9.65904762e-16,\n",
              "       -6.78670322e-15,  8.55764486e-15,  1.07092528e-14,  7.23115010e-16,\n",
              "        3.84216093e-15, -9.77768363e-15, -2.78720107e-15,  3.27161709e-15,\n",
              "        7.60771863e-15, -7.11305776e-16, -1.81756099e-16, -1.07980754e-15,\n",
              "        2.86418584e-15, -2.52802504e-15, -9.77591433e-15,  7.87939778e-15,\n",
              "        3.22230310e-15, -3.10785308e-15, -2.06587801e-15, -4.78246690e-15,\n",
              "       -1.16843939e-15, -6.79392348e-15,  3.14312818e-17, -2.94684332e-15,\n",
              "        1.85164026e-15,  1.80039260e-15,  5.04232252e-15, -2.34218906e-15,\n",
              "       -7.63081847e-15,  3.80865395e-16, -5.32525770e-15, -3.86333768e-15,\n",
              "       -1.18980689e-15,  3.72463014e-15,  2.71853881e-15, -1.97053857e-16,\n",
              "        1.51123416e-15, -6.27550465e-15,  4.56486223e-15, -2.36868622e-15,\n",
              "       -1.07988074e-14,  4.20557298e-15,  1.35054482e-15, -2.25865408e-15,\n",
              "        1.83697917e-15,  9.32303585e-16,  5.67212848e-17,  1.20491627e-15,\n",
              "       -1.80375951e-15, -2.61640533e-15,  9.87949699e-15, -6.57681002e-15,\n",
              "       -2.21065172e-15,  8.76070169e-15, -3.03857741e-15,  8.10046474e-15,\n",
              "        4.16626212e-15, -5.70253085e-18,  1.02660816e-15,  1.20772641e-15,\n",
              "        6.23810496e-15,  1.81531211e-16,  2.10254685e-15, -2.06519962e-15,\n",
              "        1.33676122e-15, -7.26233936e-15, -8.11658992e-15,  1.97768253e-15,\n",
              "        4.98503253e-15,  6.65425380e-15, -7.52085011e-15, -2.45759169e-15,\n",
              "        1.25231083e-14, -2.83265798e-15, -4.54069771e-15,  3.32097728e-15,\n",
              "        7.81022583e-16,  6.32555291e-16,  7.76729769e-15,  5.10995885e-16,\n",
              "        2.12137009e-16,  1.73478309e-16, -1.62721354e-15,  1.46208813e-15,\n",
              "        1.38073258e-15, -7.76559158e-15,  7.26118049e-15,  7.71748191e-15,\n",
              "       -2.52075038e-15, -7.14050335e-15, -4.81234826e-15, -1.00135512e-15,\n",
              "       -4.99030227e-15, -3.80505216e-15,  9.67869589e-16, -9.36922838e-15,\n",
              "        4.63263389e-15,  3.93747773e-15, -1.19073089e-14,  1.14227428e-15,\n",
              "       -1.60427823e-14,  6.05368299e-15,  5.78172366e-15, -2.18933071e-15,\n",
              "        1.01343142e-15,  2.59853827e-15, -3.28426671e-16,  1.49323656e-15,\n",
              "       -4.34181733e-15, -6.72704303e-16,  8.41602227e-15,  3.90102827e-15,\n",
              "        4.47068642e-16, -1.78400751e-15, -1.64660072e-15,  7.73987117e-15,\n",
              "        3.06301734e-15, -6.23361614e-15, -1.08979561e-15, -2.70076773e-15,\n",
              "        1.08121439e-15,  5.17184734e-15, -3.88601546e-15, -1.33824915e-15,\n",
              "       -1.67769698e-15, -1.06831354e-14,  1.42376326e-15, -5.13024021e-15,\n",
              "        6.09491576e-15, -1.95551145e-15,  8.45318231e-15, -1.80360869e-15,\n",
              "        1.02247552e-15, -2.17020345e-15,  1.43174776e-15,  1.48904013e-15,\n",
              "        4.64839126e-16,  1.68937149e-15,  3.96958383e-16,  3.07779766e-15,\n",
              "        3.33839128e-15,  8.63475004e-16, -1.47177874e-15,  4.62330632e-16,\n",
              "       -1.98095302e-15,  1.10783972e-15,  2.20034353e-15, -3.53630832e-16,\n",
              "       -1.33670399e-15, -6.75663468e-16,  4.14427346e-15,  3.01154255e-16,\n",
              "        4.51090101e-15,  1.90282355e-15, -3.48864933e-15, -1.36029742e-17,\n",
              "        1.98446285e-15, -1.24308377e-15,  1.18811151e-15, -4.59554836e-15,\n",
              "       -6.47438145e-16, -4.60146430e-16, -1.27000358e-15,  8.87324053e-15,\n",
              "       -3.62836193e-15,  8.35987684e-16, -8.17282835e-15, -4.35025250e-15,\n",
              "       -2.59593201e-15, -5.50187044e-15,  3.31044852e-15,  2.54754694e-15,\n",
              "       -1.91253561e-15, -3.22768850e-15, -1.85481880e-15,  5.81163363e-16,\n",
              "       -2.09642524e-15, -1.82527723e-15, -1.59838613e-15, -1.63742635e-15,\n",
              "       -2.82138526e-15, -8.42537905e-16,  1.89832400e-16,  3.14084860e-15,\n",
              "       -5.54379709e-15, -1.68895301e-16,  5.36825739e-15, -2.68588726e-15,\n",
              "        3.84945870e-15,  3.33168249e-16, -8.67132826e-16,  3.43559063e-15,\n",
              "        4.97955891e-15,  7.33561026e-15, -3.59332409e-15, -1.91300297e-15,\n",
              "        4.45008196e-15,  2.97133452e-15, -2.28529252e-15, -4.45764082e-15,\n",
              "        1.73169606e-15])"
            ]
          },
          "metadata": {},
          "execution_count": 23
        }
      ],
      "source": [
        "np.mean(x_te1,axis=0)"
      ]
    },
    {
      "cell_type": "code",
      "execution_count": null,
      "metadata": {
        "colab": {
          "base_uri": "https://localhost:8080/"
        },
        "id": "3v156cc7IlK1",
        "outputId": "05a591e5-e626-44fe-e936-12c58336d341"
      },
      "outputs": [
        {
          "output_type": "execute_result",
          "data": {
            "text/plain": [
              "array([1., 1., 1., 1., 1., 1., 1., 1., 1., 1., 1., 1., 1., 1., 1., 1., 1.,\n",
              "       1., 1., 1., 1., 1., 1., 1., 1., 1., 1., 1., 1., 1., 1., 1., 1., 1.,\n",
              "       1., 1., 1., 1., 1., 1., 1., 1., 1., 1., 1., 1., 1., 1., 1., 1., 1.,\n",
              "       1., 1., 1., 1., 1., 1., 1., 1., 1., 1., 1., 1., 1., 1., 1., 1., 1.,\n",
              "       1., 1., 1., 1., 1., 1., 1., 1., 1., 1., 1., 1., 1., 1., 1., 1., 1.,\n",
              "       1., 1., 1., 1., 1., 1., 1., 1., 1., 1., 1., 1., 1., 1., 1., 1., 1.,\n",
              "       1., 1., 1., 1., 1., 1., 1., 1., 1., 1., 1., 1., 1., 1., 1., 1., 1.,\n",
              "       1., 1., 1., 1., 1., 1., 1., 1., 1., 1., 1., 1., 1., 1., 1., 1., 1.,\n",
              "       1., 1., 1., 1., 1., 1., 1., 1., 1., 1., 1., 1., 1., 1., 1., 1., 1.,\n",
              "       1., 1., 1., 1., 1., 1., 1., 1., 1., 1., 1., 1., 1., 1., 1., 1., 1.,\n",
              "       1., 1., 1., 1., 1., 1., 1., 1., 1., 1., 1., 1., 1., 1., 1., 1., 1.,\n",
              "       1., 1., 1., 1., 1., 1., 1., 1., 1., 1., 1., 1., 1., 1., 1., 1., 1.,\n",
              "       1., 1., 1., 1., 1., 1., 1., 1., 1., 1., 1., 1., 1., 1., 1., 1., 1.,\n",
              "       1., 1., 1., 1., 1., 1., 1., 1., 1., 1., 1., 1., 1., 1., 1., 1., 1.,\n",
              "       1., 1., 1., 1., 1., 1., 1., 1., 1., 1., 1., 1., 1., 1., 1., 1., 1.,\n",
              "       1., 1., 1., 1., 1., 1., 1., 1., 1., 1., 1., 1., 1., 1., 1., 1., 1.,\n",
              "       1., 1., 1., 1., 1., 1., 1., 1., 1., 1., 1., 1., 1., 1., 1., 1., 1.,\n",
              "       1., 1., 1., 1., 1., 1., 1., 1., 1., 1., 1., 1., 1., 1., 1., 1., 1.,\n",
              "       1., 1., 1., 1., 1., 1., 1., 1., 1., 1., 1., 1., 1., 1., 1., 1., 1.,\n",
              "       1., 1., 1., 1., 1., 1., 1., 1., 1., 1., 1., 1., 1., 1., 1., 1., 1.,\n",
              "       1., 1., 1., 1., 1., 1., 1., 1., 1., 1., 1., 1., 1., 1., 1., 1., 1.,\n",
              "       1., 1., 1., 1., 1., 1., 1., 1., 1., 1., 1., 1., 1., 1., 1., 1., 1.,\n",
              "       1., 1., 1., 1., 1., 1., 1., 1., 1., 1., 1., 1., 1., 1., 1., 1., 1.,\n",
              "       1., 1., 1., 1., 1., 1., 1., 1., 1., 1., 1., 1., 1., 1., 1., 1., 1.,\n",
              "       1., 1., 1., 1., 1., 1., 1., 1., 1., 1., 1., 1., 1., 1., 1., 1., 1.,\n",
              "       1., 1., 1., 1., 1., 1., 1., 1., 1., 1., 1., 1., 1., 1., 1., 1., 1.,\n",
              "       1., 1., 1., 1., 1., 1., 1., 1., 1., 1., 1., 1., 1., 1., 1., 1., 1.,\n",
              "       1., 1., 1., 1., 1., 1., 1., 1., 1., 1., 1., 1., 1., 1., 1., 1., 1.,\n",
              "       1., 1., 1., 1., 1., 1., 1., 1., 1., 1., 1., 1., 1., 1., 1., 1., 1.,\n",
              "       1., 1., 1., 1., 1., 1., 1., 1., 1., 1., 1., 1., 1., 1., 1., 1., 1.,\n",
              "       1., 1., 1., 1., 1., 1., 1., 1., 1., 1., 1., 1., 1., 1., 1., 1., 1.,\n",
              "       1., 1., 1., 1., 1., 1., 1., 1., 1., 1., 1., 1., 1., 1., 1., 1., 1.,\n",
              "       1.])"
            ]
          },
          "metadata": {},
          "execution_count": 24
        }
      ],
      "source": [
        "np.std(x_te1,axis=0)"
      ]
    },
    {
      "cell_type": "markdown",
      "metadata": {
        "id": "hgkrQhKJhWVQ"
      },
      "source": [
        "#pca (Principal component analysis)\n",
        "---\n"
      ]
    },
    {
      "cell_type": "code",
      "execution_count": null,
      "metadata": {
        "id": "0RJfM9LNAB3r"
      },
      "outputs": [],
      "source": [
        "from sklearn.decomposition import PCA\n",
        "def pca_fun(n):\n",
        "    pca = PCA(n)\n",
        "    pca.fit(x_tr1)\n",
        "    x_tr_trf= pca.transform(x_tr1)\n",
        "    x_te_trf=pca.transform(x_te1)\n",
        "    return x_tr_trf,x_te_trf"
      ]
    },
    {
      "cell_type": "code",
      "execution_count": null,
      "metadata": {
        "id": "hZuT0J21_1Fz"
      },
      "outputs": [],
      "source": [
        "# shape_list=[]\n",
        "# for i in np.arange(300, 310):\n",
        "#    p=pca_fun(i)\n",
        "#    shape_list.append(p[0].shape[1])"
      ]
    },
    {
      "cell_type": "code",
      "execution_count": null,
      "metadata": {
        "colab": {
          "base_uri": "https://localhost:8080/"
        },
        "id": "cT-MmDeSZWkb",
        "outputId": "68da1497-79e7-4c34-9ff4-8dfec8a0c154"
      },
      "outputs": [
        {
          "output_type": "stream",
          "name": "stdout",
          "text": [
            "137\n"
          ]
        },
        {
          "output_type": "execute_result",
          "data": {
            "text/plain": [
              "2.2395334622535452e+16"
            ]
          },
          "metadata": {},
          "execution_count": 27
        }
      ],
      "source": [
        "p=pca_fun(.50)\n",
        "print(p[0].shape[1])\n",
        "np.linalg.det(np.cov(p[0],rowvar=0))"
      ]
    },
    {
      "cell_type": "code",
      "execution_count": null,
      "metadata": {
        "id": "OdmssSHmne8J",
        "colab": {
          "base_uri": "https://localhost:8080/",
          "height": 126
        },
        "outputId": "e87a9230-9294-4be1-f838-932623f87aae"
      },
      "outputs": [
        {
          "output_type": "execute_result",
          "data": {
            "text/plain": [
              "'\\n  at n=.20\\n    6\\n    131504.18283953864\\n\\n  at n=.30\\n    40\\n    546521476195.33984\\n  \\n  at n=.40\\n    40\\n    546521476195.33984\\n  \\n  at n=.47\\n    121\\n    1.6762520137738122e+16\\n\\n  at n=.48\\n    127\\n    1.9787467469247144e+16\\n\\n  at n=.49\\n    132\\n    2.1495197352532916e+16\\n  \\n  at n=.50    (max)\\n    137\\n    2.2395334622535452e+16\\n  at n=.51\\n    143\\n    2.2245257803109376e+16\\n  at n=.52\\n    148\\n    2.1019085103195816e+16\\n  at n=.55\\n    165\\n    1.2284371955397866e+16\\n\\n  at n=.60\\n    194\\n    1592697361795778.8\\n\\n  at n=.70\\n    257\\n    164353911395.7212\\n  \\n  at n=.80\\n    328\\n    2176.890225165078\\n  \\n * at n=.82\\n    343\\n    15.970988278809484\\n  \\n * at n=.83\\n    351\\n    0.9732321403438391\\n  \\n  at n=.84\\n    358\\n    0.07621146810638234\\n\\n  at n=.85\\n    366\\n    0.0036946545572524225\\n  \\n  at n=.90\\n    408\\n    5.0219642775034735e-11\\n\\n  at n=.91\\n    436\\n    2.2793023004154796e-17\\n'"
            ],
            "application/vnd.google.colaboratory.intrinsic+json": {
              "type": "string"
            }
          },
          "metadata": {},
          "execution_count": 28
        }
      ],
      "source": [
        "'''\n",
        "  at n=.20\n",
        "    6\n",
        "    131504.18283953864\n",
        "\n",
        "  at n=.30\n",
        "    40\n",
        "    546521476195.33984\n",
        "\n",
        "  at n=.40\n",
        "    40\n",
        "    546521476195.33984\n",
        "\n",
        "  at n=.47\n",
        "    121\n",
        "    1.6762520137738122e+16\n",
        "\n",
        "  at n=.48\n",
        "    127\n",
        "    1.9787467469247144e+16\n",
        "\n",
        "  at n=.49\n",
        "    132\n",
        "    2.1495197352532916e+16\n",
        "\n",
        "  at n=.50    (max)\n",
        "    137\n",
        "    2.2395334622535452e+16\n",
        "  at n=.51\n",
        "    143\n",
        "    2.2245257803109376e+16\n",
        "  at n=.52\n",
        "    148\n",
        "    2.1019085103195816e+16\n",
        "  at n=.55\n",
        "    165\n",
        "    1.2284371955397866e+16\n",
        "\n",
        "  at n=.60\n",
        "    194\n",
        "    1592697361795778.8\n",
        "\n",
        "  at n=.70\n",
        "    257\n",
        "    164353911395.7212\n",
        "\n",
        "  at n=.80\n",
        "    328\n",
        "    2176.890225165078\n",
        "\n",
        " * at n=.82\n",
        "    343\n",
        "    15.970988278809484\n",
        "\n",
        " * at n=.83\n",
        "    351\n",
        "    0.9732321403438391\n",
        "\n",
        "  at n=.84\n",
        "    358\n",
        "    0.07621146810638234\n",
        "\n",
        "  at n=.85\n",
        "    366\n",
        "    0.0036946545572524225\n",
        "\n",
        "  at n=.90\n",
        "    408\n",
        "    5.0219642775034735e-11\n",
        "\n",
        "  at n=.91\n",
        "    436\n",
        "    2.2793023004154796e-17\n",
        "'''"
      ]
    },
    {
      "cell_type": "code",
      "execution_count": null,
      "metadata": {
        "id": "mdJJoRu-eQIB"
      },
      "outputs": [],
      "source": [
        "# shape_list=[]\n",
        "# lin=[]\n",
        "# for i in [.81,.82,.83,.84,.85,.86,.87,.88,.89]:\n",
        "#   p=pca_fun(i)\n",
        "#   shape_list.append(p[0].shape[1])\n",
        "#   lin.append(np.linalg.det(np.cov(p[0],rowvar=0)))\n"
      ]
    },
    {
      "cell_type": "code",
      "execution_count": null,
      "metadata": {
        "id": "x2DTW9KJfDp_"
      },
      "outputs": [],
      "source": [
        "# lin"
      ]
    },
    {
      "cell_type": "code",
      "execution_count": null,
      "metadata": {
        "id": "VxuhyYdtdgR4"
      },
      "outputs": [],
      "source": [
        "# np.linalg.det(np.cov(p,rowvar=0))"
      ]
    },
    {
      "cell_type": "code",
      "execution_count": null,
      "metadata": {
        "id": "ubqS-RbfAvpH"
      },
      "outputs": [],
      "source": [
        "# shape_list"
      ]
    },
    {
      "cell_type": "markdown",
      "source": [
        "#**SMOTE**(Synthetic Minority Oversampling Technique)"
      ],
      "metadata": {
        "id": "fJY4OC-PpUXj"
      }
    },
    {
      "cell_type": "code",
      "source": [
        "from collections import Counter\n",
        "\n",
        "a=Counter(y_tr[0])\n",
        "a"
      ],
      "metadata": {
        "colab": {
          "base_uri": "https://localhost:8080/"
        },
        "id": "WPDWiE7Ve-n8",
        "outputId": "d3cfb0b7-c714-4fb1-9a73-935f08dcd7e6"
      },
      "execution_count": null,
      "outputs": [
        {
          "output_type": "execute_result",
          "data": {
            "text/plain": [
              "Counter({0: 49655, 1: 2905})"
            ]
          },
          "metadata": {},
          "execution_count": 33
        }
      ]
    },
    {
      "cell_type": "code",
      "source": [
        "! pip install imblearn\n",
        "from imblearn.over_sampling import SMOTE"
      ],
      "metadata": {
        "colab": {
          "base_uri": "https://localhost:8080/"
        },
        "id": "z-PpQTxYwayQ",
        "outputId": "973d7b66-4dab-47fd-a89d-c508c4890da7"
      },
      "execution_count": null,
      "outputs": [
        {
          "output_type": "stream",
          "name": "stdout",
          "text": [
            "Looking in indexes: https://pypi.org/simple, https://us-python.pkg.dev/colab-wheels/public/simple/\n",
            "Requirement already satisfied: imblearn in /usr/local/lib/python3.7/dist-packages (0.0)\n",
            "Requirement already satisfied: imbalanced-learn in /usr/local/lib/python3.7/dist-packages (from imblearn) (0.8.1)\n",
            "Requirement already satisfied: numpy>=1.13.3 in /usr/local/lib/python3.7/dist-packages (from imbalanced-learn->imblearn) (1.21.6)\n",
            "Requirement already satisfied: scipy>=0.19.1 in /usr/local/lib/python3.7/dist-packages (from imbalanced-learn->imblearn) (1.7.3)\n",
            "Requirement already satisfied: joblib>=0.11 in /usr/local/lib/python3.7/dist-packages (from imbalanced-learn->imblearn) (1.2.0)\n",
            "Requirement already satisfied: scikit-learn>=0.24 in /usr/local/lib/python3.7/dist-packages (from imbalanced-learn->imblearn) (1.0.2)\n",
            "Requirement already satisfied: threadpoolctl>=2.0.0 in /usr/local/lib/python3.7/dist-packages (from scikit-learn>=0.24->imbalanced-learn->imblearn) (3.1.0)\n"
          ]
        }
      ]
    },
    {
      "cell_type": "code",
      "source": [
        "sm = SMOTE(random_state = 2)\n",
        "x_tr_res, y_tr_res = sm.fit_resample(p[0], y_tr)\n",
        "\n",
        "print('After OverSampling, the shape of train_X: {}'.format(x_tr_res.shape))\n",
        "print('After OverSampling, the shape of train_y: {} \\n'.format(y_tr_res.shape))\n"
      ],
      "metadata": {
        "colab": {
          "base_uri": "https://localhost:8080/"
        },
        "id": "zDHR87bPpRcT",
        "outputId": "39f883b1-21cc-4126-dfd7-c417f3ff4ee9"
      },
      "execution_count": null,
      "outputs": [
        {
          "output_type": "stream",
          "name": "stdout",
          "text": [
            "After OverSampling, the shape of train_X: (99310, 137)\n",
            "After OverSampling, the shape of train_y: (99310, 1) \n",
            "\n"
          ]
        }
      ]
    },
    {
      "cell_type": "code",
      "source": [
        "from collections import Counter\n",
        "\n",
        "b=Counter(y_tr_res[0])\n",
        "b"
      ],
      "metadata": {
        "colab": {
          "base_uri": "https://localhost:8080/"
        },
        "id": "l7Ma2fyKwX1A",
        "outputId": "a6777dd3-c3cd-4030-b20c-4f473143b85d"
      },
      "execution_count": null,
      "outputs": [
        {
          "output_type": "execute_result",
          "data": {
            "text/plain": [
              "Counter({0: 49655, 1: 49655})"
            ]
          },
          "metadata": {},
          "execution_count": 36
        }
      ]
    },
    {
      "cell_type": "markdown",
      "metadata": {
        "id": "o-An0s2NiWx1"
      },
      "source": [
        "#APPLYING ALGOS\n",
        "\n",
        "---"
      ]
    },
    {
      "cell_type": "code",
      "execution_count": null,
      "metadata": {
        "id": "VuCHt2MrjLar"
      },
      "outputs": [],
      "source": [
        "from sklearn.metrics import accuracy_score,classification_report"
      ]
    },
    {
      "cell_type": "markdown",
      "metadata": {
        "id": "L1buHzfck_Ht"
      },
      "source": [
        "# 1) Naive Bayes Classifier"
      ]
    },
    {
      "cell_type": "code",
      "execution_count": null,
      "metadata": {
        "colab": {
          "base_uri": "https://localhost:8080/"
        },
        "id": "TvcuRo9ok-LR",
        "outputId": "574aa5c8-6ef6-4c86-877a-ddc260b76a07"
      },
      "outputs": [
        {
          "output_type": "stream",
          "name": "stderr",
          "text": [
            "/usr/local/lib/python3.7/dist-packages/sklearn/utils/validation.py:993: DataConversionWarning: A column-vector y was passed when a 1d array was expected. Please change the shape of y to (n_samples, ), for example using ravel().\n",
            "  y = column_or_1d(y, warn=True)\n"
          ]
        }
      ],
      "source": [
        "from sklearn.naive_bayes import GaussianNB\n",
        "\n",
        "gnb = GaussianNB()\n",
        "gnb.fit(x_tr_res,y_tr_res)\n",
        "#gnb.fit(p[0],y_tr)\n",
        "y_pred=gnb.predict(p[1])\n",
        "\n"
      ]
    },
    {
      "cell_type": "code",
      "execution_count": null,
      "metadata": {
        "colab": {
          "base_uri": "https://localhost:8080/"
        },
        "id": "yanOSEj2lNtT",
        "outputId": "67a2d476-6f24-4ec9-88ef-245f30a96dad"
      },
      "outputs": [
        {
          "output_type": "execute_result",
          "data": {
            "text/plain": [
              "0.7983247422680413"
            ]
          },
          "metadata": {},
          "execution_count": 39
        }
      ],
      "source": [
        "accuracy_score(y_pred,y_te)"
      ]
    },
    {
      "cell_type": "code",
      "execution_count": null,
      "metadata": {
        "colab": {
          "base_uri": "https://localhost:8080/"
        },
        "id": "we3K4Tz6RqDi",
        "outputId": "39ed4dee-8cff-4bf0-e4c2-1e87607c3b56"
      },
      "outputs": [
        {
          "output_type": "stream",
          "name": "stdout",
          "text": [
            "              precision    recall  f1-score   support\n",
            "\n",
            "           0       0.84      0.93      0.88     18989\n",
            "           1       0.41      0.22      0.29      4291\n",
            "\n",
            "    accuracy                           0.80     23280\n",
            "   macro avg       0.63      0.57      0.58     23280\n",
            "weighted avg       0.76      0.80      0.77     23280\n",
            "\n"
          ]
        }
      ],
      "source": [
        "print(classification_report(y_pred,y_te))"
      ]
    },
    {
      "cell_type": "markdown",
      "source": [
        "#2) Logistic Regression"
      ],
      "metadata": {
        "id": "MxK8QvPxxBsV"
      }
    },
    {
      "cell_type": "code",
      "execution_count": null,
      "metadata": {
        "colab": {
          "base_uri": "https://localhost:8080/"
        },
        "id": "EcPpPKbvVkB1",
        "outputId": "bece422c-0e29-4771-9870-14003036f1da"
      },
      "outputs": [
        {
          "output_type": "stream",
          "name": "stderr",
          "text": [
            "/usr/local/lib/python3.7/dist-packages/sklearn/utils/validation.py:993: DataConversionWarning: A column-vector y was passed when a 1d array was expected. Please change the shape of y to (n_samples, ), for example using ravel().\n",
            "  y = column_or_1d(y, warn=True)\n"
          ]
        },
        {
          "output_type": "stream",
          "name": "stdout",
          "text": [
            "              precision    recall  f1-score   support\n",
            "\n",
            "           0       0.85      0.94      0.90     19048\n",
            "           1       0.51      0.28      0.36      4232\n",
            "\n",
            "    accuracy                           0.82     23280\n",
            "   macro avg       0.68      0.61      0.63     23280\n",
            "weighted avg       0.79      0.82      0.80     23280\n",
            "\n"
          ]
        }
      ],
      "source": [
        "from sklearn.linear_model import LogisticRegression\n",
        "lr=LogisticRegression()\n",
        "lr.fit(x_tr_res,y_tr_res)\n",
        "#lr.fit(p[0],y_tr)\n",
        "y_pred=lr.predict(p[1])\n",
        "print(classification_report(y_pred,y_te))"
      ]
    },
    {
      "cell_type": "markdown",
      "metadata": {
        "id": "d0A0d1QiiaXf"
      },
      "source": [
        "# 3) k nearest neighbour\n"
      ]
    },
    {
      "cell_type": "code",
      "execution_count": null,
      "metadata": {
        "colab": {
          "base_uri": "https://localhost:8080/"
        },
        "id": "eMB2j_w-gRI4",
        "outputId": "b1915f78-2c6c-40d3-961f-28eb4a10793b"
      },
      "outputs": [
        {
          "output_type": "stream",
          "name": "stderr",
          "text": [
            "/usr/local/lib/python3.7/dist-packages/sklearn/neighbors/_classification.py:198: DataConversionWarning: A column-vector y was passed when a 1d array was expected. Please change the shape of y to (n_samples,), for example using ravel().\n",
            "  return self._fit(X, y)\n"
          ]
        },
        {
          "output_type": "execute_result",
          "data": {
            "text/plain": [
              "0.7490979381443299"
            ]
          },
          "metadata": {},
          "execution_count": 42
        }
      ],
      "source": [
        "from sklearn.neighbors import KNeighborsClassifier\n",
        "\n",
        "knn = KNeighborsClassifier()\n",
        "knn.fit(x_tr_res,y_tr_res)\n",
        "#knn.fit(p[0],y_tr)\n",
        "y_pred = knn.predict(p[1])\n",
        "\n",
        "accuracy_score(y_pred,y_te)"
      ]
    },
    {
      "cell_type": "code",
      "execution_count": null,
      "metadata": {
        "colab": {
          "base_uri": "https://localhost:8080/"
        },
        "id": "2VDxhPA0R3GF",
        "outputId": "9ee95e46-d096-4521-e657-4fc4a9521100"
      },
      "outputs": [
        {
          "output_type": "stream",
          "name": "stdout",
          "text": [
            "              precision    recall  f1-score   support\n",
            "\n",
            "           0       0.78      0.94      0.85     17413\n",
            "           1       0.51      0.20      0.28      5867\n",
            "\n",
            "    accuracy                           0.75     23280\n",
            "   macro avg       0.64      0.57      0.57     23280\n",
            "weighted avg       0.71      0.75      0.71     23280\n",
            "\n"
          ]
        }
      ],
      "source": [
        "print(classification_report(y_pred,y_te))"
      ]
    },
    {
      "cell_type": "markdown",
      "metadata": {
        "id": "1bCzQ8o7j891"
      },
      "source": [
        "# 4) Dicision Tree\n"
      ]
    },
    {
      "cell_type": "code",
      "execution_count": null,
      "metadata": {
        "id": "jmQBUVrhj8V5"
      },
      "outputs": [],
      "source": [
        "from sklearn.tree import DecisionTreeClassifier\n",
        "\n",
        "dt = DecisionTreeClassifier()\n",
        "dt.fit(x_tr_res,y_tr_res)\n",
        "#dt.fit(p[0],y_tr)\n",
        "y_pred = dt.predict(p[1])\n"
      ]
    },
    {
      "cell_type": "code",
      "execution_count": null,
      "metadata": {
        "colab": {
          "base_uri": "https://localhost:8080/"
        },
        "id": "kUUh-6ABkGWV",
        "outputId": "f49f99f7-3297-4f11-e2c8-8daad8225e46"
      },
      "outputs": [
        {
          "output_type": "execute_result",
          "data": {
            "text/plain": [
              "0.7869845360824742"
            ]
          },
          "metadata": {},
          "execution_count": 45
        }
      ],
      "source": [
        "accuracy_score(y_pred,y_te)"
      ]
    },
    {
      "cell_type": "code",
      "execution_count": null,
      "metadata": {
        "colab": {
          "base_uri": "https://localhost:8080/"
        },
        "id": "WBTdxzmfR45o",
        "outputId": "dcf400cf-50db-460e-9ec4-150c54d6d4de"
      },
      "outputs": [
        {
          "output_type": "stream",
          "name": "stdout",
          "text": [
            "              precision    recall  f1-score   support\n",
            "\n",
            "           0       0.83      0.92      0.88     19007\n",
            "           1       0.35      0.19      0.24      4273\n",
            "\n",
            "    accuracy                           0.79     23280\n",
            "   macro avg       0.59      0.55      0.56     23280\n",
            "weighted avg       0.75      0.79      0.76     23280\n",
            "\n"
          ]
        }
      ],
      "source": [
        "print(classification_report(y_pred,y_te))"
      ]
    },
    {
      "cell_type": "markdown",
      "metadata": {
        "id": "CvepKYwCkPlY"
      },
      "source": [
        "# 5) Support Vector Machine"
      ]
    },
    {
      "cell_type": "code",
      "execution_count": null,
      "metadata": {
        "id": "Y7hDd9MEkOqL"
      },
      "outputs": [],
      "source": [
        "# from sklearn.svm import SVC\n",
        "\n",
        "# svm = SVC()\n",
        "# svm.fit(x_tr_res,y_tr_res)\n",
        "# # svm.fit(p[0],y_tr)\n",
        "# y_pred = svm.predict(p[1])"
      ]
    },
    {
      "cell_type": "code",
      "execution_count": null,
      "metadata": {
        "id": "iycAZMEDkWya"
      },
      "outputs": [],
      "source": [
        "# accuracy_score(y_pred,y_te)"
      ]
    },
    {
      "cell_type": "code",
      "execution_count": null,
      "metadata": {
        "id": "dijNYVHOR6o7"
      },
      "outputs": [],
      "source": [
        "# print(classification_report(y_pred,y_te))"
      ]
    },
    {
      "cell_type": "markdown",
      "source": [
        "# 6) Random Forest Classifier"
      ],
      "metadata": {
        "id": "6QWKUAHsBV7E"
      }
    },
    {
      "cell_type": "code",
      "source": [
        "#Fitting Decision Tree classifier to the training set\n",
        "from sklearn.ensemble import RandomForestClassifier\n",
        "classifier= RandomForestClassifier(n_estimators= 10, criterion=\"entropy\")\n",
        "classifier.fit(x_tr_res, y_tr_res)\n",
        "#Predicting the test set result\n",
        "y_pred= classifier.predict(p[1])"
      ],
      "metadata": {
        "colab": {
          "base_uri": "https://localhost:8080/"
        },
        "id": "k4HbyC9MBUge",
        "outputId": "a1c944c8-80da-40dd-df1c-ecd91cba328e"
      },
      "execution_count": null,
      "outputs": [
        {
          "output_type": "stream",
          "name": "stderr",
          "text": [
            "/usr/local/lib/python3.7/dist-packages/ipykernel_launcher.py:4: DataConversionWarning: A column-vector y was passed when a 1d array was expected. Please change the shape of y to (n_samples,), for example using ravel().\n",
            "  after removing the cwd from sys.path.\n"
          ]
        }
      ]
    },
    {
      "cell_type": "code",
      "source": [
        "print(classification_report(y_pred,y_te))"
      ],
      "metadata": {
        "id": "DWRPpEx4B8K8"
      },
      "execution_count": null,
      "outputs": []
    },
    {
      "cell_type": "markdown",
      "metadata": {
        "id": "2BGHJ5g7S0sN"
      },
      "source": [
        "#waste\n"
      ]
    },
    {
      "cell_type": "code",
      "execution_count": null,
      "metadata": {
        "id": "dsgg7nOECZE_"
      },
      "outputs": [],
      "source": [
        "p.singular_values_"
      ]
    },
    {
      "cell_type": "code",
      "execution_count": null,
      "metadata": {
        "id": "TTz5PlVrVf-9"
      },
      "outputs": [],
      "source": [
        "np.linalg.det(np.cov(x_tr_trf,rowvar=0))"
      ]
    },
    {
      "cell_type": "code",
      "execution_count": null,
      "metadata": {
        "id": "I5u-PRX6tRvm"
      },
      "outputs": [],
      "source": [
        "x_cov=x_tr.corr()\n",
        "x_cov"
      ]
    },
    {
      "cell_type": "code",
      "execution_count": null,
      "metadata": {
        "id": "AHuVt5AFwRnZ"
      },
      "outputs": [],
      "source": [
        "\n",
        "# with sns.axes_style(\"white\"):\n",
        "#     f, ax = plt.subplots(figsize=(30,30))\n",
        "#     sns.heatmap(data=x_tr.corr(),vmin=0,vmax=1,square=True,annot=True)"
      ]
    },
    {
      "cell_type": "code",
      "execution_count": null,
      "metadata": {
        "id": "VPcYtUPo38ys"
      },
      "outputs": [],
      "source": [
        "# corrmat = x_tr.corr()\n",
        "# top_corr_feature=corrmat.index\n",
        "# plt.figure(figsize=(20,20))\n",
        "# #plot heat map\n",
        "# g=sns.heatmap(x_tr[top_corr_feature].corr(),annot=True,cmap='RdYlGn')"
      ]
    },
    {
      "cell_type": "code",
      "execution_count": null,
      "metadata": {
        "id": "iKxCXagH6WVL"
      },
      "outputs": [],
      "source": [
        "df1 = x_tr\n",
        "df1['y'] = y_tr"
      ]
    },
    {
      "cell_type": "code",
      "execution_count": null,
      "metadata": {
        "id": "jJR_6bDi6aB3"
      },
      "outputs": [],
      "source": [
        "df1"
      ]
    },
    {
      "cell_type": "code",
      "execution_count": null,
      "metadata": {
        "id": "JZ3dpg2T8iBQ"
      },
      "outputs": [],
      "source": [
        "df=df1.corr()"
      ]
    }
  ],
  "metadata": {
    "colab": {
      "collapsed_sections": [
        "CvepKYwCkPlY",
        "2BGHJ5g7S0sN"
      ],
      "provenance": [],
      "authorship_tag": "ABX9TyPAu3JjvvB7WsOLt5ZGiidW",
      "include_colab_link": true
    },
    "kernelspec": {
      "display_name": "Python 3",
      "name": "python3"
    },
    "language_info": {
      "name": "python"
    }
  },
  "nbformat": 4,
  "nbformat_minor": 0
}